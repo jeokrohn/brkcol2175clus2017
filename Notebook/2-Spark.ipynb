{
 "cells": [
  {
   "cell_type": "markdown",
   "metadata": {},
   "source": [
    "# How to obtain an OAuth refresh token\n",
    "\n",
    "## Create an integration\n",
    "\n",
    "To create an integration follow the instructions at https://developer.ciscospark.com/authentication.html.\n",
    "\n",
    "Every integration needs a public URL defining the icon of the integration.\n",
    "\n",
    "Example: https://cdn2.iconfinder.com/data/icons/business-seo-vol-5/100/1-07-512.png\n",
    "\n",
    "Copy the values for your integration to below code. \n",
    "\n",
    "**The client_secret will only be shown once!**\n",
    "\n",
    "In this demo we are using an non-existing redirect URI so that the OAuth flow will stall at the point where the browser finally tries to access the redirect URI.\n",
    "\n",
    "The example code tries to read the client secret from an environment variable `SPARK_CLIENT_SECRET` first, so that i don't have to share my client secret publicly :-)\n"
   ]
  },
  {
   "cell_type": "code",
   "execution_count": 1,
   "metadata": {
    "collapsed": true
   },
   "outputs": [],
   "source": [
    "import os\n",
    "\n",
    "client_id = 'C7c2beddad408126189a9fb2aefacbb2ae26f2a271b02547419e0b26f48cccbda'\n",
    "redirect_uri = 'https://foo.example.com'\n",
    "client_secret = os.environ.get('SPARK_CLIENT_SECRET')\n",
    "\n",
    "if client_secret is None:\n",
    "    client_secret = '<insert your client secret here>'\n",
    "\n",
    "\n",
    "# these are the scopes we will be requesting!\n",
    "scopes = 'spark:all spark:kms'"
   ]
  },
  {
   "cell_type": "markdown",
   "metadata": {},
   "source": [
    "## Initiate the OAuth grant flow\n",
    "\n",
    "The refresh token would typically be requested by an integration running on some web server. On user request the integration to achieve authorization initiates the OAuth flow by redirecting the user's browser to a specific authorization URL. \n",
    "\n",
    "Since we don't have a real web service available in this case we have to manually initiate the authorization flow by pointing a web browser to the authorization URL.\n",
    "\n",
    "Then you want to point your browser to the URL given as *OAuth Authorization URL*. Make sure to append a **state** parameter. Here's an example:\n",
    "> https://api.ciscospark.com/v1/authorize?client_id=C7c2beddad408126189a9fb2aefacbb2ae26f2a271b02547419e0b26f48cccbda&response_type=code&redirect_uri=https%3A%2F%2Ffoo.example.com&scope=spark%3Aall%20spark%3Akms&state=abc\n",
    "\n",
    "The **state** parameter will be passed back at the final step of the OAuth flow in the GET to the *redirect URI* so that the integration corelate the authorization result with the request.\n",
    "\n",
    "Above URL can also be derived based on *client_id*, *client_secret*, *redirect_uri* and *scopes*. For this we need the help of a Python module called *urllib.parse*. The documentation for this module is available at:\n",
    "https://docs.python.org/3/library/urllib.parse.html\n",
    "\n",
    "We specifically use the [`urllib.parse.urlencode()`](https://docs.python.org/3/library/urllib.parse.html#urllib.parse.urlencode) method to create a query string."
   ]
  },
  {
   "cell_type": "code",
   "execution_count": 2,
   "metadata": {},
   "outputs": [
    {
     "name": "stdout",
     "output_type": "stream",
     "text": [
      "State: 0e34ed5b-f8af-437d-b084-7a89046a975d\n",
      "https://api.ciscospark.com/v1/authorize?state=0e34ed5b-f8af-437d-b084-7a89046a975d&client_id=C7c2beddad408126189a9fb2aefacbb2ae26f2a271b02547419e0b26f48cccbda&redirect_uri=https%3A%2F%2Ffoo.example.com&scope=spark%3Aall%20spark%3Akms&response_type=code\n"
     ]
    }
   ],
   "source": [
    "# we need the help from an external Python libraries\n",
    "import urllib.parse\n",
    "import uuid\n",
    "\n",
    "base_url = 'https://api.ciscospark.com/v1/authorize'\n",
    "\n",
    "state = str(uuid.uuid4())   # some random UUID\n",
    "print('State: {}'.format(state))\n",
    "\n",
    "# prepare a dictionary with all parameters we need to encode in the URL\n",
    "data = {\n",
    "    'client_id' : client_id,\n",
    "    'response_type' : 'code',\n",
    "    'redirect_uri' : redirect_uri,\n",
    "    'scope' : scopes,\n",
    "    'state' : state\n",
    "}\n",
    "\n",
    "# this gets us a url encoded query string\n",
    "query = urllib.parse.urlencode(data, quote_via=urllib.parse.quote)\n",
    "\n",
    "# .. which we then finally combine with the base url\n",
    "url = '{}?{}'.format(base_url, query)\n",
    "print(url)\n"
   ]
  },
  {
   "cell_type": "markdown",
   "metadata": {},
   "source": [
    "## Exchange *code* for a refresh token\n",
    "Since we defined an non-existant redirect URL the browser fails to follow the ultimate 302 redirect in the authorization flow. In reality the redirect URL would point to the webservice which initiated the authorization flow. Encoded in the URL is the *code* parameter which the web service would exchange for an OAuth refresh token.\n",
    "\n",
    "Paste the address from your webbrowser into the last_redirect variable in below code. The code then extracts the *code* from the URL."
   ]
  },
  {
   "cell_type": "code",
   "execution_count": 3,
   "metadata": {},
   "outputs": [
    {
     "name": "stdout",
     "output_type": "stream",
     "text": [
      "Code: OGMyMzAyMWEtNzQzZS00NjkwLTk2MGMtOTE4NjUyMGIwNDA0NDc5Y2VkMDctZjgw\n",
      "State (same as in the request above!): 0e34ed5b-f8af-437d-b084-7a89046a975d\n"
     ]
    }
   ],
   "source": [
    "last_redirect = 'https://foo.example.com/?code=OGMyMzAyMWEtNzQzZS00NjkwLTk2MGMtOTE4NjUyMGIwNDA0NDc5Y2VkMDctZjgw&state=0e34ed5b-f8af-437d-b084-7a89046a975d'\n",
    "\n",
    "# 1st we parse the URL. We are only interested in the query string\n",
    "query = urllib.parse.urlparse(last_redirect).query\n",
    "\n",
    "# then we parse the query string and get a dictionary with key/value pairs\n",
    "query = urllib.parse.parse_qs(query)\n",
    "\n",
    "# from that dictionary we finally extract the code\n",
    "code = query['code'][0]\n",
    "state = query['state'][0]\n",
    "\n",
    "print('Code: {}'.format(code))\n",
    "print('State (same as in the request above!): {}'.format(state))"
   ]
  },
  {
   "cell_type": "markdown",
   "metadata": {},
   "source": [
    "With that **`code`** the web service (in our case that again is a manual process) can now get a refresh token by exchanging the **`code`** for a token. The **`code`** can only be used **once**.\n",
    "\n",
    "To authorize the request to exchange the **`code`** for a refresh token the integration has to include the **`client_secret`** in the request. This is the only time the **`client_secret`** is used.\n",
    "\n",
    "This is done by executing a POST agains a well-known web service as documented here: https://developer.ciscospark.com/authentication.html"
   ]
  },
  {
   "cell_type": "code",
   "execution_count": null,
   "metadata": {},
   "outputs": [],
   "source": [
    "import requests\n",
    "import json\n",
    "\n",
    "access_token_url = 'https://api.ciscospark.com/v1/access_token'\n",
    "\n",
    "params = {\n",
    "    'grant_type' : 'authorization_code',\n",
    "    'client_id' : client_id,\n",
    "    'client_secret' : client_secret,\n",
    "    'code' : code,\n",
    "    'redirect_uri' : redirect_uri\n",
    "}\n",
    "\n",
    "r = requests.post(access_token_url, json = params).json()\n",
    "\n",
    "print('JSON response:')\n",
    "print(json.dumps(r, indent=4))\n",
    "\n",
    "if r.get('errors'):\n",
    "    error = r['errors'][0]\n",
    "    print('Failed to get access token: {}'.format(error['description']))\n",
    "else:\n",
    "    access_token = r['access_token']\n",
    "    refresh_token = r['refresh_token']\n",
    "    \n",
    "    print('\\nAccess token: {}'.format(access_token))\n",
    "    print('Valid for {} days'.format(round(r['expires_in'] / 60 / 60 / 24)))\n",
    "    print('Refresh token: {}'.format(refresh_token))\n",
    "    print('Valid for {} days'.format(round(r['refresh_token_expires_in'] / 60 / 60 / 24)))\n",
    "    \n"
   ]
  },
  {
   "cell_type": "markdown",
   "metadata": {},
   "source": [
    "## Create access tokens using the refresh token\n",
    "The refresh token can be used to always obtain a new access token. The web service is the same that we used above in the final step of the OAuth flow to exchange the *code* for an access token only with different parameters.\n"
   ]
  },
  {
   "cell_type": "code",
   "execution_count": null,
   "metadata": {
    "collapsed": true
   },
   "outputs": [],
   "source": [
    "import requests\n",
    "import json\n",
    "\n",
    "# web service URL\n",
    "access_token_url = 'https://api.ciscospark.com/v1/access_token'\n",
    "\n",
    "# parameters for the API call\n",
    "params = {\n",
    "    'grant_type' : 'refresh_token',\n",
    "    'client_id' : client_id,\n",
    "    'client_secret' : client_secret,\n",
    "    'refresh_token' : refresh_token\n",
    "}\n",
    "\n",
    "# POST\n",
    "r = requests.post(access_token_url, json = params)\n",
    "\n",
    "# the result is JSON\n",
    "r = r.json()\n",
    "\n",
    "print('JSON response:')\n",
    "print(json.dumps(r, indent=4))\n",
    "\n",
    "# check for errors\n",
    "if r.get('errors'):\n",
    "    error = r['errors'][0]\n",
    "    print('Failed to get access token: {}'.format(error['description']))\n",
    "else:\n",
    "    access_token = r['access_token']\n",
    "    refresh_token = r['refresh_token']\n",
    "    \n",
    "    print('\\nAccess token: {}'.format(access_token))\n",
    "    print('Valid for {} days'.format(round(r['expires_in'] / 60 / 60 / 24)))\n",
    "    print('Refresh token: {}'.format(refresh_token))\n",
    "    print('Valid for {} days'.format(round(r['refresh_token_expires_in'] / 60 / 60 / 24)))\n"
   ]
  },
  {
   "attachments": {
    "token.png": {
     "image/png": "[encoded data removed]"
    }
   },
   "cell_type": "markdown",
   "metadata": {},
   "source": [
    "# Obtaining an OAuth access token directly\n",
    "\n",
    "An OAuth access token can also be obtained directly from the [Cisco Spark Developer Portal](https://developer.ciscospark.com). To obtain a token go to [the portal](https://developer.ciscospark.com) and login. At the top right corner you will see your avatar. Click on the avatar and an OAuth token will be displayed:\n",
    "\n",
    "![token.png](attachment:token.png)\n",
    "\n",
    "You can then click on \"copy\" and insert your OAuth token into the Python code below; you want to remove the *#* comment character to enable the assignement.\n"
   ]
  },
  {
   "cell_type": "code",
   "execution_count": 7,
   "metadata": {
    "collapsed": true
   },
   "outputs": [],
   "source": [
    "#access_token = 'OWU3ODk*****NWYwYjVhMGFhZDQ5OWMtZWFi'\n"
   ]
  },
  {
   "cell_type": "markdown",
   "metadata": {},
   "source": [
    "# Using the Spark APIs\n",
    "\n",
    "## Getting a list of spaces\n",
    "\n",
    "The endpoint to get a list of spaces is documented here: https://developer.ciscospark.com/endpoint-rooms-get.html. Below is the code to get a list of all spaces."
   ]
  },
  {
   "cell_type": "code",
   "execution_count": 8,
   "metadata": {
    "collapsed": true
   },
   "outputs": [],
   "source": [
    "import requests\n",
    "import json\n",
    "\n",
    "def get_spaces(max_spaces = 1000, spaces_type=''):\n",
    "    url = 'https://api.ciscospark.com/v1/rooms'\n",
    "\n",
    "    params = {\n",
    "        'max': max_spaces, \n",
    "        'type' : spaces_type\n",
    "    }\n",
    "\n",
    "    # authorization is achieved by passing the access token in an authorization header\n",
    "    headers = {'Authorization' : 'Bearer {}'.format(access_token),\n",
    "              'Content-type' : 'application/json; charset=utf-8'}\n",
    "\n",
    "    r = requests.get(url, params=params, headers=headers)\n",
    "\n",
    "    # raise an exception in case the request failed\n",
    "    r.raise_for_status()\n",
    "    \n",
    "    # use the json() methof of the response object to get the response\n",
    "    r = r.json()\n",
    "    \n",
    "    # the spaces are returned in the 'items' array of the response\n",
    "    return r['items']\n"
   ]
  },
  {
   "cell_type": "code",
   "execution_count": 11,
   "metadata": {},
   "outputs": [
    {
     "name": "stdout",
     "output_type": "stream",
     "text": [
      "11.5 GTM\n",
      "2017-01-31 L2SIP, PSTN-INC000000016340\n",
      "4:15 TODAY: be in Main Keynote for a thank you\n",
      "ACE Collaboration\n",
      "ACE leveraging Enterprise Trunk and conversion of Cisco alpha to Spark Call Ent PT with ByoPSTN\n",
      "AHS - Collaboration Internal\n",
      "APJ Partner Webinar\n",
      "ATCG ( Acano Tactical Control Group) Thread 2.0 #community\n",
      "ATS: PMP-SP Onboarding\n",
      "Abdul Rahman\n"
     ]
    }
   ],
   "source": [
    "\n",
    "# get all spaces using the above function\n",
    "spaces = get_spaces(max_spaces = 1000, spaces_type = 'group')\n",
    "\n",
    "# create a sorted list of space titles\n",
    "titles = [s['title'] for s in spaces]\n",
    "titles.sort()\n",
    "\n",
    "print('\\n'.join(titles))"
   ]
  },
  {
   "cell_type": "markdown",
   "metadata": {},
   "source": [
    "# Posting content to a space\n",
    "\n",
    "The endpoint to post to a space is documented here: https://developer.ciscospark.com/endpoint-messages-post.html. \n",
    "\n",
    "## Wrapper to post to a space\n",
    "\n",
    "The simple wrapper below basically supports all parameters as described in the [API documentation](https://developer.ciscospark.com/endpoint-messages-post.html)"
   ]
  },
  {
   "cell_type": "code",
   "execution_count": 12,
   "metadata": {
    "collapsed": true
   },
   "outputs": [],
   "source": [
    "def post_message(roomId = None, toPersonId = None, toPersonEmail = None, text = None, markdown = None, files = None):\n",
    "    params = {}\n",
    "    \n",
    "    # three different options to define destination\n",
    "    if roomId is not None:\n",
    "        params['roomId'] = roomId\n",
    "    elif toPersonId is not None:\n",
    "        params['toPersonId'] = toPersonId\n",
    "    else:\n",
    "        params['toPersonEmail'] = toPersonEmail\n",
    "        \n",
    "    # three different options to define the content\n",
    "    if text is not None:\n",
    "        params['text'] = text\n",
    "    if markdown is not None:\n",
    "        params['markdown'] = markdown\n",
    "    if files is not None:\n",
    "        params['files'] = files\n",
    "    \n",
    "    headers = {\n",
    "        'Authorization' : 'Bearer {}'.format(access_token),\n",
    "        'Content-Type' : 'application/json; charset=utf-8'\n",
    "    }\n",
    "\n",
    "    url = 'https://api.ciscospark.com/v1/messages'\n",
    "\n",
    "    # the endpoint requires a POST and the parameters are passed as JSON in the body\n",
    "    r = requests.post(url, json=params, headers=headers)\n",
    "    \n",
    "    return r.json()"
   ]
  },
  {
   "cell_type": "markdown",
   "metadata": {},
   "source": [
    "## Posting Text to a 1:1 space\n",
    "\n",
    "Now we can use the above simple wrapper to post text to a 1:1 space simply by providing an email address and the text to post."
   ]
  },
  {
   "cell_type": "code",
   "execution_count": null,
   "metadata": {
    "collapsed": true
   },
   "outputs": [],
   "source": [
    "import datetime\n",
    "\n",
    "r = post_message(toPersonEmail = '<insert your email address here>', text = '{}: Test'.format(datetime.datetime.now()))\n",
    "print(json.dumps(r, indent=4))"
   ]
  },
  {
   "cell_type": "markdown",
   "metadata": {},
   "source": [
    "## Posting text to a group space\n",
    "\n",
    "Posting to a regular group space requires the ID of the space to post to. This ID can be achieved by looking at the list of all spaces and searching for the space with the desired title"
   ]
  },
  {
   "cell_type": "code",
   "execution_count": 13,
   "metadata": {},
   "outputs": [
    {
     "name": "stdout",
     "output_type": "stream",
     "text": [
      "target_space: {'isLocked': False, 'id': 'Y2lzY29zcGFyazovL3VzL1JPT00vM2Q3MjE0ODAtNDA3NC0xMWU3LTk3MDgtMGRmOWNkNzFjNWQx', 'creatorId': 'Y2lzY29zcGFyazovL3VzL1BFT1BMRS8wNzhkOGVjMi05Mjg5LTQ2NTUtOWE5NC0wNDNiOWVjMTMyOTk', 'type': 'group', 'lastActivity': '2017-06-20T16:45:48.755Z', 'title': 'Jupyter Test', 'created': '2017-05-24T11:29:24.936Z'}\n",
      "\n",
      "Target space 'Jupyter Test' has id Y2lzY29zcGFyazovL3VzL1JPT00vM2Q3MjE0ODAtNDA3NC0xMWU3LTk3MDgtMGRmOWNkNzFjNWQx\n"
     ]
    }
   ],
   "source": [
    "target_space_title = 'Jupyter Test'\n",
    "\n",
    "spaces = get_spaces(spaces_type='group')\n",
    "\n",
    "# (s for s in spaces) defines a generator which will return all spaces one by one if next() is called for the generator\n",
    "# (s for s in spaces if s['title'] == target_space_title) is a generator for all spaces where the title matches\n",
    "# calling next() on that generator returns the 1st space which matches the criteria expressed by 'if' in the generator\n",
    "target_space = next((s for s in spaces if s['title'].startswith(target_space_title)))\n",
    "\n",
    "print('target_space: {}'.format(target_space))\n",
    "target_space_id = target_space['id']\n",
    "\n",
    "print('\\nTarget space \\'{}\\' has id {}'.format(target_space_title, target_space_id))"
   ]
  },
  {
   "cell_type": "markdown",
   "metadata": {},
   "source": [
    "With that space ID we can now again post text using our wrapper."
   ]
  },
  {
   "cell_type": "code",
   "execution_count": 14,
   "metadata": {},
   "outputs": [
    {
     "name": "stdout",
     "output_type": "stream",
     "text": [
      "{\n",
      "    \"text\": \"2017-06-24 10:38:00.091608: Test\",\n",
      "    \"roomType\": \"group\",\n",
      "    \"id\": \"Y2lzY29zcGFyazovL3VzL01FU1NBR0UvZGY3OGE4NTAtNTkwMy0xMWU3LTgxNDktY2Y4OTVjNTliZTU3\",\n",
      "    \"roomId\": \"Y2lzY29zcGFyazovL3VzL1JPT00vM2Q3MjE0ODAtNDA3NC0xMWU3LTk3MDgtMGRmOWNkNzFjNWQx\",\n",
      "    \"personId\": \"Y2lzY29zcGFyazovL3VzL1BFT1BMRS8wNzhkOGVjMi05Mjg5LTQ2NTUtOWE5NC0wNDNiOWVjMTMyOTk\",\n",
      "    \"personEmail\": \"jkrohn@cisco.com\",\n",
      "    \"created\": \"2017-06-24T17:38:02.709Z\"\n",
      "}\n"
     ]
    }
   ],
   "source": [
    "import datetime\n",
    "\n",
    "r = post_message(roomId = target_space_id, text = '{}: Test'.format(datetime.datetime.now()))\n",
    "print(json.dumps(r, indent=4))"
   ]
  },
  {
   "cell_type": "markdown",
   "metadata": {},
   "source": [
    "## Formatting messages\n",
    "\n",
    "Markdown can be used to post rich text content. The documentation of the available markdown syntax can be found at [developer.ciscospark.com](https://developer.ciscospark.com/formatting-messages.html) "
   ]
  },
  {
   "cell_type": "code",
   "execution_count": 15,
   "metadata": {},
   "outputs": [
    {
     "name": "stdout",
     "output_type": "stream",
     "text": [
      "{\n",
      "    \"text\": \"2017-06-24 10:38:07.984087: Messages can contain links. And multiple lines of text. Bold text is also possible. Lists can contain multiple entries Or can be ordered\",\n",
      "    \"created\": \"2017-06-24T17:38:11.544Z\",\n",
      "    \"roomType\": \"group\",\n",
      "    \"id\": \"Y2lzY29zcGFyazovL3VzL01FU1NBR0UvZTRiY2M1ODAtNTkwMy0xMWU3LTg5MzAtZWZhYTI5ZDZhZmE0\",\n",
      "    \"roomId\": \"Y2lzY29zcGFyazovL3VzL1JPT00vM2Q3MjE0ODAtNDA3NC0xMWU3LTk3MDgtMGRmOWNkNzFjNWQx\",\n",
      "    \"personId\": \"Y2lzY29zcGFyazovL3VzL1BFT1BMRS8wNzhkOGVjMi05Mjg5LTQ2NTUtOWE5NC0wNDNiOWVjMTMyOTk\",\n",
      "    \"personEmail\": \"jkrohn@cisco.com\",\n",
      "    \"html\": \"<p>2017-06-24 10:38:07.984087: Messages can contain <a href=\\\"http://www.ciscolive.com/online\\\">links</a>.</p><p>And multiple lines of text.</p><p><strong>Bold</strong> text is also possible.</p><p>Lists</p><ul><li>can</li><li>contain</li><li>multiple</li><li>entries</li></ul><p>Or</p><ol><li>can</li><li>be</li><li>ordered</li></ol>\",\n",
      "    \"markdown\": \"2017-06-24 10:38:07.984087: Messages can contain [links](http://www.ciscolive.com/online).\\n\\nAnd multiple lines of text.\\n\\n**Bold** text is also possible.\\n\\nLists\\n- can\\n- contain\\n- multiple\\n- entries\\n\\nOr\\n1. can\\n2. be\\n3. ordered\\n\"\n",
      "}\n"
     ]
    }
   ],
   "source": [
    "markdown = '''{}: Messages can contain [links](http://www.ciscolive.com/online).\n",
    "\n",
    "And multiple lines of text.\n",
    "\n",
    "**Bold** text is also possible.\n",
    "\n",
    "Lists\n",
    "- can\n",
    "- contain\n",
    "- multiple\n",
    "- entries\n",
    "\n",
    "Or\n",
    "1. can\n",
    "2. be\n",
    "3. ordered\n",
    "'''.format(datetime.datetime.now())\n",
    "r = post_message(roomId = target_space_id, markdown = markdown)\n",
    "print(json.dumps(r, indent=4))"
   ]
  },
  {
   "cell_type": "markdown",
   "metadata": {},
   "source": [
    "## Posting Attachments\n",
    "\n",
    "### Public Files\n",
    "\n",
    "The API allows to pass a publich URL of a file to be posted to Cisco Spark as an attachment. "
   ]
  },
  {
   "cell_type": "code",
   "execution_count": 16,
   "metadata": {
    "collapsed": true
   },
   "outputs": [],
   "source": [
    "# list of publicly accessible URLs of some traffic cams in Germany\n",
    "urls = ['http://autobahn-rlp.de/syncdata/cam/380/thumb_640x480.jpg',\n",
    "        'http://autobahn-rlp.de/syncdata/cam/385/thumb_640x480.jpg',\n",
    "        'http://autobahn-rlp.de/syncdata/cam/165/thumb_640x480.jpg']\n",
    "\n",
    "text = 'Traffic in Germany'\n",
    "\n",
    "r = post_message(roomId = target_space_id, text=text)\n",
    "\n",
    "# now for each traffic cam \n",
    "for url in urls:\n",
    "    # post a message with one attachment defined by that public URL\n",
    "    r = post_message(roomId = target_space_id, files=[url])\n"
   ]
  },
  {
   "cell_type": "markdown",
   "metadata": {},
   "source": [
    "### Local Files\n",
    "\n",
    "Obviously it is not possible to provide a publicly accessible URI for a local file to attach the local file to a Cisco Spark message.\n",
    "\n",
    "Thus to attach a local file to a Cisco Spark message a different method needs to be used. The API also supports direct upload of a local file as decribed in this blog post: https://developer.ciscospark.com/blog/blog-details-8129.html\n",
    "\n",
    "Essentially in this case the paramerters of the API calls are not passed as JSON in the body of the POST. Instead a multipart body is POSTed with each parameter passed in one part.\n",
    "\n",
    "The [`requests_toolbelt`](https://pypi.python.org/pypi/requests-toolbelt) module is used to create the multipart MIME body.\n",
    "\n",
    "This module can be installed via:\n",
    "> pip install requests_toolbelt\n",
    "\n",
    "This is how the body would look like:\n",
    "\n",
    "```\n",
    "--469c20fd02014a488c06beaf5bc7b275\n",
    "Content-Disposition: form-data; name=\"files\"; filename=\"Agenda\"\n",
    "Content-Type: application/pdf\n",
    "\n",
    "%PDF-1.3\\n%\\xc4\\xe5\\xf2\\xe5\\xeb\\xa7\\xf3\\xa0\\xd0\\xc4\\xc6\\n4 0 obj\\n<< /Length 5 0 R /Filter /FlateDecode >>\\\n",
    "...\n",
    "%%EOF\n",
    "\n",
    "--469c20fd02014a488c06beaf5bc7b275\n",
    "Content-Disposition: form-data; name=\"text\"\n",
    "\n",
    "Here is the agenda\n",
    "--469c20fd02014a488c06beaf5bc7b275\n",
    "Content-Disposition: form-data; name=\"roomId\"\n",
    "\n",
    "Y2lzY29zcGFyazovL3VzL1JPT00vM2Q3MjE0ODAtNDA3NC0xMWU3LTk3MDgtMGRmOWNkNzFjNWQx\n",
    "--469c20fd02014a488c06beaf5bc7b275--\n",
    "\n",
    "```\n",
    "\n",
    "The Content-Type header of the POST in this case would be:\n",
    "```\n",
    "Content-Type: multipart/form-data; boundary=469c20fd02014a488c06beaf5bc7b275\n",
    "```\n"
   ]
  },
  {
   "cell_type": "code",
   "execution_count": 17,
   "metadata": {},
   "outputs": [
    {
     "name": "stdout",
     "output_type": "stream",
     "text": [
      "{\n",
      "    \"text\": \"Here is the agenda\",\n",
      "    \"files\": [\n",
      "        \"https://api.ciscospark.com/v1/contents/Y2lzY29zcGFyazovL3VzL0NPTlRFTlQvZjJhNjJjNDAtNTkwMy0xMWU3LWI5MTgtNGIxNzc1MjkzOTFlLzA\"\n",
      "    ],\n",
      "    \"roomType\": \"group\",\n",
      "    \"id\": \"Y2lzY29zcGFyazovL3VzL01FU1NBR0UvZjJhNjJjNDAtNTkwMy0xMWU3LWI5MTgtNGIxNzc1MjkzOTFl\",\n",
      "    \"personId\": \"Y2lzY29zcGFyazovL3VzL1BFT1BMRS8wNzhkOGVjMi05Mjg5LTQ2NTUtOWE5NC0wNDNiOWVjMTMyOTk\",\n",
      "    \"roomId\": \"Y2lzY29zcGFyazovL3VzL1JPT00vM2Q3MjE0ODAtNDA3NC0xMWU3LTk3MDgtMGRmOWNkNzFjNWQx\",\n",
      "    \"personEmail\": \"jkrohn@cisco.com\",\n",
      "    \"created\": \"2017-06-24T17:38:34.884Z\"\n",
      "}\n",
      "\n",
      "The request has been sent with\n",
      "'Content-Type: multipart/form-data; boundary=aba6e901f57841c9b952e3c8ce27985b'\n"
     ]
    }
   ],
   "source": [
    "import requests_toolbelt\n",
    "import requests\n",
    "\n",
    "file_path = './BRKCOL-2175_Agenda.pdf'\n",
    "file_type = 'application/pdf'\n",
    "endpoint = \"https://api.ciscospark.com/v1/messages\"\n",
    "\n",
    "with open(file_path, 'rb') as f:\n",
    "    # prepare the multipart body\n",
    "    data = {'roomId': target_space_id, \n",
    "            'text': 'Here is the agenda',\n",
    "            'files': ('Agenda', f, file_type)\n",
    "           }\n",
    "    multi_part = requests_toolbelt.MultipartEncoder(fields=data)\n",
    "    \n",
    "    headers = {'Content-Type': multi_part.content_type,\n",
    "            'Authorization': 'Bearer {}'.format(access_token)}\n",
    "    \n",
    "    r = requests.post(endpoint, data=multi_part, headers=headers)\n",
    "\n",
    "r.raise_for_status()\n",
    "\n",
    "print(json.dumps(r.json(), indent=4))\n",
    "\n",
    "print('\\nThe request has been sent with\\n\\'Content-Type: {}\\''.format(r.request.headers['Content-Type']))\n"
   ]
  },
  {
   "cell_type": "markdown",
   "metadata": {
    "collapsed": true
   },
   "source": [
    "# Simplify Spark API usage by using an API wrapper\n",
    "\n",
    "While creating wrappers for all methods offered by the [Cisco Spark API](https://developer.ciscospark.com/getting-started.html) is pretty straight forward (see the `post_message()` and `get_spaces()` examples above) it's even easier (and more efficient) to use a readily available API wrapper which supports all operations offered by the Cisco Spark API. \n",
    "\n",
    "One example is the [ciscosparkapi](https://github.com/CiscoDevNet/ciscosparkapi) API wrapper. It can be installed via:\n",
    "> `pip install ciscosparkapi` \n",
    "\n",
    "Documentation is hosted at http://ciscosparkapi.readthedocs.io/en/latest/index.html\n"
   ]
  },
  {
   "cell_type": "markdown",
   "metadata": {},
   "source": [
    "## Create the API object\n",
    "\n",
    "The **`CiscoSparkAPI`** object is instantiated with the existing OAuth access token which will then be used for all API calls by the wrapper."
   ]
  },
  {
   "cell_type": "code",
   "execution_count": 18,
   "metadata": {
    "collapsed": true
   },
   "outputs": [],
   "source": [
    "import ciscosparkapi\n",
    "\n",
    "api = ciscosparkapi.CiscoSparkAPI(access_token=access_token)\n"
   ]
  },
  {
   "cell_type": "markdown",
   "metadata": {},
   "source": [
    "## Find a space\n",
    "\n",
    "The target space for our tests again can be found by going through the list of spaces and looking for the right title. The API wrapper instead of returning JSON (or Python dictionaries as in our examples above) returns objects. For example the elements returned by the generator created by the [`rooms.list()`](http://ciscosparkapi.readthedocs.io/en/latest/user/api.html#rooms) call are [Room](http://ciscosparkapi.readthedocs.io/en/latest/user/api.html#room) objects so that we have to look at the `.title` attribute instead of looking at the `['title']` member of a dictionary."
   ]
  },
  {
   "cell_type": "code",
   "execution_count": 19,
   "metadata": {},
   "outputs": [
    {
     "data": {
      "text/plain": [
       "Room({\"isLocked\": false, \"id\": \"Y2lzY29zcGFyazovL3VzL1JPT00vM2Q3MjE0ODAtNDA3NC0xMWU3LTk3MDgtMGRmOWNkNzFjNWQx\", \"creatorId\": \"Y2lzY29zcGFyazovL3VzL1BFT1BMRS8wNzhkOGVjMi05Mjg5LTQ2NTUtOWE5NC0wNDNiOWVjMTMyOTk\", \"type\": \"group\", \"lastActivity\": \"2017-06-24T17:38:34.884Z\", \"title\": \"Jupyter Test\", \"created\": \"2017-05-24T11:29:24.936Z\"})"
      ]
     },
     "execution_count": 19,
     "metadata": {},
     "output_type": "execute_result"
    }
   ],
   "source": [
    "import ciscosparkapi\n",
    "\n",
    "api = ciscosparkapi.CiscoSparkAPI(access_token=access_token)\n",
    "\n",
    "spaces = api.rooms.list(max=500, type='group')\n",
    "target_space = next((s for s in spaces if s.title.startswith(target_space_title)))\n",
    "target_space"
   ]
  },
  {
   "cell_type": "markdown",
   "metadata": {},
   "source": [
    "## Iterate through messages\n",
    "\n",
    "The Wrapper also allows to easily iterate through all messages posted in a given space."
   ]
  },
  {
   "cell_type": "code",
   "execution_count": 20,
   "metadata": {},
   "outputs": [
    {
     "name": "stdout",
     "output_type": "stream",
     "text": [
      "Message:\n",
      "{\n",
      "  \"text\": \"Here is the agenda\",\n",
      "  \"files\": [\n",
      "    \"https://api.ciscospark.com/v1/contents/Y2lzY29zcGFyazovL3VzL0NPTlRFTlQvZjJhNjJjNDAtNTkwMy0xMWU3LWI5MTgtNGIxNzc1MjkzOTFlLzA\"\n",
      "  ],\n",
      "  \"roomType\": \"group\",\n",
      "  \"id\": \"Y2lzY29zcGFyazovL3VzL01FU1NBR0UvZjJhNjJjNDAtNTkwMy0xMWU3LWI5MTgtNGIxNzc1MjkzOTFl\",\n",
      "  \"personId\": \"Y2lzY29zcGFyazovL3VzL1BFT1BMRS8wNzhkOGVjMi05Mjg5LTQ2NTUtOWE5NC0wNDNiOWVjMTMyOTk\",\n",
      "  \"roomId\": \"Y2lzY29zcGFyazovL3VzL1JPT00vM2Q3MjE0ODAtNDA3NC0xMWU3LTk3MDgtMGRmOWNkNzFjNWQx\",\n",
      "  \"personEmail\": \"jkrohn@cisco.com\",\n",
      "  \"created\": \"2017-06-24T17:38:34.884Z\"\n",
      "}\n",
      "Message:\n",
      "{\n",
      "  \"files\": [\n",
      "    \"https://api.ciscospark.com/v1/contents/Y2lzY29zcGFyazovL3VzL0NPTlRFTlQvZjA2MDVhZjAtNTkwMy0xMWU3LTg2YzgtMzMxYjczODA3NjNiLzA\"\n",
      "  ],\n",
      "  \"roomType\": \"group\",\n",
      "  \"id\": \"Y2lzY29zcGFyazovL3VzL01FU1NBR0UvZjA2MDVhZjAtNTkwMy0xMWU3LTg2YzgtMzMxYjczODA3NjNi\",\n",
      "  \"roomId\": \"Y2lzY29zcGFyazovL3VzL1JPT00vM2Q3MjE0ODAtNDA3NC0xMWU3LTk3MDgtMGRmOWNkNzFjNWQx\",\n",
      "  \"personId\": \"Y2lzY29zcGFyazovL3VzL1BFT1BMRS8wNzhkOGVjMi05Mjg5LTQ2NTUtOWE5NC0wNDNiOWVjMTMyOTk\",\n",
      "  \"personEmail\": \"jkrohn@cisco.com\",\n",
      "  \"created\": \"2017-06-24T17:38:31.071Z\"\n",
      "}\n",
      "Message:\n",
      "{\n",
      "  \"files\": [\n",
      "    \"https://api.ciscospark.com/v1/contents/Y2lzY29zcGFyazovL3VzL0NPTlRFTlQvZWU2NmFkZDAtNTkwMy0xMWU3LWJlYjYtMzUyMjA4MDUzODRhLzA\"\n",
      "  ],\n",
      "  \"roomType\": \"group\",\n",
      "  \"id\": \"Y2lzY29zcGFyazovL3VzL01FU1NBR0UvZWU2NmFkZDAtNTkwMy0xMWU3LWJlYjYtMzUyMjA4MDUzODRh\",\n",
      "  \"roomId\": \"Y2lzY29zcGFyazovL3VzL1JPT00vM2Q3MjE0ODAtNDA3NC0xMWU3LTk3MDgtMGRmOWNkNzFjNWQx\",\n",
      "  \"personId\": \"Y2lzY29zcGFyazovL3VzL1BFT1BMRS8wNzhkOGVjMi05Mjg5LTQ2NTUtOWE5NC0wNDNiOWVjMTMyOTk\",\n",
      "  \"personEmail\": \"jkrohn@cisco.com\",\n",
      "  \"created\": \"2017-06-24T17:38:27.757Z\"\n",
      "}\n",
      "Message:\n",
      "{\n",
      "  \"files\": [\n",
      "    \"https://api.ciscospark.com/v1/contents/Y2lzY29zcGFyazovL3VzL0NPTlRFTlQvZWJiZTRhMjAtNTkwMy0xMWU3LWFhMmEtNTkwODIwYWIzNzVhLzA\"\n",
      "  ],\n",
      "  \"roomType\": \"group\",\n",
      "  \"id\": \"Y2lzY29zcGFyazovL3VzL01FU1NBR0UvZWJiZTRhMjAtNTkwMy0xMWU3LWFhMmEtNTkwODIwYWIzNzVh\",\n",
      "  \"roomId\": \"Y2lzY29zcGFyazovL3VzL1JPT00vM2Q3MjE0ODAtNDA3NC0xMWU3LTk3MDgtMGRmOWNkNzFjNWQx\",\n",
      "  \"personId\": \"Y2lzY29zcGFyazovL3VzL1BFT1BMRS8wNzhkOGVjMi05Mjg5LTQ2NTUtOWE5NC0wNDNiOWVjMTMyOTk\",\n",
      "  \"personEmail\": \"jkrohn@cisco.com\",\n",
      "  \"created\": \"2017-06-24T17:38:23.298Z\"\n",
      "}\n",
      "Message:\n",
      "{\n",
      "  \"text\": \"Traffic in Germany\",\n",
      "  \"roomType\": \"group\",\n",
      "  \"id\": \"Y2lzY29zcGFyazovL3VzL01FU1NBR0UvZThmNDA2OTAtNTkwMy0xMWU3LTg1ZTUtMTU4MWEyMjJlNGEw\",\n",
      "  \"roomId\": \"Y2lzY29zcGFyazovL3VzL1JPT00vM2Q3MjE0ODAtNDA3NC0xMWU3LTk3MDgtMGRmOWNkNzFjNWQx\",\n",
      "  \"personId\": \"Y2lzY29zcGFyazovL3VzL1BFT1BMRS8wNzhkOGVjMi05Mjg5LTQ2NTUtOWE5NC0wNDNiOWVjMTMyOTk\",\n",
      "  \"personEmail\": \"jkrohn@cisco.com\",\n",
      "  \"created\": \"2017-06-24T17:38:18.617Z\"\n",
      "}\n",
      "Message:\n",
      "{\n",
      "  \"text\": \"2017-06-24 10:38:07.984087: Messages can contain links. And multiple lines of text. Bold text is also possible. Lists can contain multiple entries Or can be ordered\",\n",
      "  \"created\": \"2017-06-24T17:38:11.544Z\",\n",
      "  \"roomType\": \"group\",\n",
      "  \"id\": \"Y2lzY29zcGFyazovL3VzL01FU1NBR0UvZTRiY2M1ODAtNTkwMy0xMWU3LTg5MzAtZWZhYTI5ZDZhZmE0\",\n",
      "  \"roomId\": \"Y2lzY29zcGFyazovL3VzL1JPT00vM2Q3MjE0ODAtNDA3NC0xMWU3LTk3MDgtMGRmOWNkNzFjNWQx\",\n",
      "  \"personId\": \"Y2lzY29zcGFyazovL3VzL1BFT1BMRS8wNzhkOGVjMi05Mjg5LTQ2NTUtOWE5NC0wNDNiOWVjMTMyOTk\",\n",
      "  \"personEmail\": \"jkrohn@cisco.com\",\n",
      "  \"html\": \"<p>2017-06-24 10:38:07.984087: Messages can contain <a href=\\\"http://www.ciscolive.com/online\\\">links</a>.</p><p>And multiple lines of text.</p><p><strong>Bold</strong> text is also possible.</p><p>Lists</p><ul><li>can</li><li>contain</li><li>multiple</li><li>entries</li></ul><p>Or</p><ol><li>can</li><li>be</li><li>ordered</li></ol>\",\n",
      "  \"markdown\": \"2017-06-24 10:38:07.984087: Messages can contain [links](http://www.ciscolive.com/online).\\n\\nAnd multiple lines of text.\\n\\n**Bold** text is also possible.\\n\\nLists\\n- can\\n- contain\\n- multiple\\n- entries\\n\\nOr\\n1. can\\n2. be\\n3. ordered\\n\"\n",
      "}\n",
      "Message:\n",
      "{\n",
      "  \"text\": \"2017-06-24 10:38:00.091608: Test\",\n",
      "  \"roomType\": \"group\",\n",
      "  \"id\": \"Y2lzY29zcGFyazovL3VzL01FU1NBR0UvZGY3OGE4NTAtNTkwMy0xMWU3LTgxNDktY2Y4OTVjNTliZTU3\",\n",
      "  \"roomId\": \"Y2lzY29zcGFyazovL3VzL1JPT00vM2Q3MjE0ODAtNDA3NC0xMWU3LTk3MDgtMGRmOWNkNzFjNWQx\",\n",
      "  \"personId\": \"Y2lzY29zcGFyazovL3VzL1BFT1BMRS8wNzhkOGVjMi05Mjg5LTQ2NTUtOWE5NC0wNDNiOWVjMTMyOTk\",\n",
      "  \"personEmail\": \"jkrohn@cisco.com\",\n",
      "  \"created\": \"2017-06-24T17:38:02.709Z\"\n",
      "}\n",
      "Message:\n",
      "{\n",
      "  \"files\": [\n",
      "    \"https://api.ciscospark.com/v1/contents/Y2lzY29zcGFyazovL3VzL0NPTlRFTlQvZTlkNjNhMzAtNTVkNy0xMWU3LThlMmItMzczZjAyN2M4ODVmLzA\"\n",
      "  ],\n",
      "  \"roomType\": \"group\",\n",
      "  \"id\": \"Y2lzY29zcGFyazovL3VzL01FU1NBR0UvZTlkNjNhMzAtNTVkNy0xMWU3LThlMmItMzczZjAyN2M4ODVm\",\n",
      "  \"roomId\": \"Y2lzY29zcGFyazovL3VzL1JPT00vM2Q3MjE0ODAtNDA3NC0xMWU3LTk3MDgtMGRmOWNkNzFjNWQx\",\n",
      "  \"personId\": \"Y2lzY29zcGFyazovL3VzL1BFT1BMRS8wNzhkOGVjMi05Mjg5LTQ2NTUtOWE5NC0wNDNiOWVjMTMyOTk\",\n",
      "  \"personEmail\": \"jkrohn@cisco.com\",\n",
      "  \"created\": \"2017-06-20T16:45:48.755Z\"\n",
      "}\n",
      "Message:\n",
      "{\n",
      "  \"files\": [\n",
      "    \"https://api.ciscospark.com/v1/contents/Y2lzY29zcGFyazovL3VzL0NPTlRFTlQvZTg2OGEwNzAtNTVkNy0xMWU3LThjMjQtZjFlYTY4N2I2YTEyLzA\"\n",
      "  ],\n",
      "  \"roomType\": \"group\",\n",
      "  \"id\": \"Y2lzY29zcGFyazovL3VzL01FU1NBR0UvZTg2OGEwNzAtNTVkNy0xMWU3LThjMjQtZjFlYTY4N2I2YTEy\",\n",
      "  \"roomId\": \"Y2lzY29zcGFyazovL3VzL1JPT00vM2Q3MjE0ODAtNDA3NC0xMWU3LTk3MDgtMGRmOWNkNzFjNWQx\",\n",
      "  \"personId\": \"Y2lzY29zcGFyazovL3VzL1BFT1BMRS8wNzhkOGVjMi05Mjg5LTQ2NTUtOWE5NC0wNDNiOWVjMTMyOTk\",\n",
      "  \"personEmail\": \"jkrohn@cisco.com\",\n",
      "  \"created\": \"2017-06-20T16:45:46.359Z\"\n",
      "}\n",
      "Message:\n",
      "{\n",
      "  \"files\": [\n",
      "    \"https://api.ciscospark.com/v1/contents/Y2lzY29zcGFyazovL3VzL0NPTlRFTlQvZTZlMjAwNzAtNTVkNy0xMWU3LWE4ZWMtMzU0NGIwMmE3ODRlLzA\"\n",
      "  ],\n",
      "  \"roomType\": \"group\",\n",
      "  \"id\": \"Y2lzY29zcGFyazovL3VzL01FU1NBR0UvZTZlMjAwNzAtNTVkNy0xMWU3LWE4ZWMtMzU0NGIwMmE3ODRl\",\n",
      "  \"roomId\": \"Y2lzY29zcGFyazovL3VzL1JPT00vM2Q3MjE0ODAtNDA3NC0xMWU3LTk3MDgtMGRmOWNkNzFjNWQx\",\n",
      "  \"personId\": \"Y2lzY29zcGFyazovL3VzL1BFT1BMRS8wNzhkOGVjMi05Mjg5LTQ2NTUtOWE5NC0wNDNiOWVjMTMyOTk\",\n",
      "  \"personEmail\": \"jkrohn@cisco.com\",\n",
      "  \"created\": \"2017-06-20T16:45:43.799Z\"\n",
      "}\n",
      "Message:\n",
      "{\n",
      "  \"files\": [\n",
      "    \"https://api.ciscospark.com/v1/contents/Y2lzY29zcGFyazovL3VzL0NPTlRFTlQvZTU1Yjg3ODAtNTVkNy0xMWU3LTg1OTMtYTEzZjcyNjg2ZDhmLzA\"\n",
      "  ],\n",
      "  \"roomType\": \"group\",\n",
      "  \"id\": \"Y2lzY29zcGFyazovL3VzL01FU1NBR0UvZTU1Yjg3ODAtNTVkNy0xMWU3LTg1OTMtYTEzZjcyNjg2ZDhm\",\n",
      "  \"roomId\": \"Y2lzY29zcGFyazovL3VzL1JPT00vM2Q3MjE0ODAtNDA3NC0xMWU3LTk3MDgtMGRmOWNkNzFjNWQx\",\n",
      "  \"personId\": \"Y2lzY29zcGFyazovL3VzL1BFT1BMRS8wNzhkOGVjMi05Mjg5LTQ2NTUtOWE5NC0wNDNiOWVjMTMyOTk\",\n",
      "  \"personEmail\": \"jkrohn@cisco.com\",\n",
      "  \"created\": \"2017-06-20T16:45:41.240Z\"\n",
      "}\n",
      "Message:\n",
      "{\n",
      "  \"text\": \"Some attachments\",\n",
      "  \"roomType\": \"group\",\n",
      "  \"id\": \"Y2lzY29zcGFyazovL3VzL01FU1NBR0UvZTNhZWU4ZjAtNTVkNy0xMWU3LWI2NWUtYWZiNDg1ZTRiMjI1\",\n",
      "  \"roomId\": \"Y2lzY29zcGFyazovL3VzL1JPT00vM2Q3MjE0ODAtNDA3NC0xMWU3LTk3MDgtMGRmOWNkNzFjNWQx\",\n",
      "  \"personId\": \"Y2lzY29zcGFyazovL3VzL1BFT1BMRS8wNzhkOGVjMi05Mjg5LTQ2NTUtOWE5NC0wNDNiOWVjMTMyOTk\",\n",
      "  \"personEmail\": \"jkrohn@cisco.com\",\n",
      "  \"created\": \"2017-06-20T16:45:38.431Z\"\n",
      "}\n",
      "Message:\n",
      "{\n",
      "  \"text\": \"Posted via the ciscosparkapi API\",\n",
      "  \"created\": \"2017-06-20T16:45:38.157Z\",\n",
      "  \"roomType\": \"group\",\n",
      "  \"id\": \"Y2lzY29zcGFyazovL3VzL01FU1NBR0UvZTM4NTE5ZDAtNTVkNy0xMWU3LWI5YTQtMWY3OTFmMjZkNDE3\",\n",
      "  \"roomId\": \"Y2lzY29zcGFyazovL3VzL1JPT00vM2Q3MjE0ODAtNDA3NC0xMWU3LTk3MDgtMGRmOWNkNzFjNWQx\",\n",
      "  \"personId\": \"Y2lzY29zcGFyazovL3VzL1BFT1BMRS8wNzhkOGVjMi05Mjg5LTQ2NTUtOWE5NC0wNDNiOWVjMTMyOTk\",\n",
      "  \"personEmail\": \"jkrohn@cisco.com\",\n",
      "  \"html\": \"<p>Posted via the <strong><code>ciscosparkapi</code></strong> API</p>\",\n",
      "  \"markdown\": \"Posted via the **`ciscosparkapi`** API\"\n",
      "}\n",
      "Message:\n",
      "{\n",
      "  \"text\": \"Posted via the ciscosparkapi API\",\n",
      "  \"roomType\": \"group\",\n",
      "  \"id\": \"Y2lzY29zcGFyazovL3VzL01FU1NBR0UvZTMyMWM0MjAtNTVkNy0xMWU3LTg2ZmItZjMyNDY5NTU0M2Qy\",\n",
      "  \"roomId\": \"Y2lzY29zcGFyazovL3VzL1JPT00vM2Q3MjE0ODAtNDA3NC0xMWU3LTk3MDgtMGRmOWNkNzFjNWQx\",\n",
      "  \"personId\": \"Y2lzY29zcGFyazovL3VzL1BFT1BMRS8wNzhkOGVjMi05Mjg5LTQ2NTUtOWE5NC0wNDNiOWVjMTMyOTk\",\n",
      "  \"personEmail\": \"jkrohn@cisco.com\",\n",
      "  \"created\": \"2017-06-20T16:45:37.506Z\"\n",
      "}\n",
      "Message:\n",
      "{\n",
      "  \"text\": \"Here is the agenda\",\n",
      "  \"files\": [\n",
      "    \"https://api.ciscospark.com/v1/contents/Y2lzY29zcGFyazovL3VzL0NPTlRFTlQvY2VhYTBjZjAtNTVkNy0xMWU3LWIwZGYtZWI1MWIwZWQ0YzlkLzA\"\n",
      "  ],\n",
      "  \"roomType\": \"group\",\n",
      "  \"id\": \"Y2lzY29zcGFyazovL3VzL01FU1NBR0UvY2VhYTBjZjAtNTVkNy0xMWU3LWIwZGYtZWI1MWIwZWQ0Yzlk\",\n",
      "  \"personId\": \"Y2lzY29zcGFyazovL3VzL1BFT1BMRS8wNzhkOGVjMi05Mjg5LTQ2NTUtOWE5NC0wNDNiOWVjMTMyOTk\",\n",
      "  \"roomId\": \"Y2lzY29zcGFyazovL3VzL1JPT00vM2Q3MjE0ODAtNDA3NC0xMWU3LTk3MDgtMGRmOWNkNzFjNWQx\",\n",
      "  \"personEmail\": \"jkrohn@cisco.com\",\n",
      "  \"created\": \"2017-06-20T16:45:03.167Z\"\n",
      "}\n",
      "Message:\n",
      "{\n",
      "  \"files\": [\n",
      "    \"https://api.ciscospark.com/v1/contents/Y2lzY29zcGFyazovL3VzL0NPTlRFTlQvY2FjMzM1ZDAtNTVkNy0xMWU3LTliZmMtYjFkNGNiZTI3MDViLzA\"\n",
      "  ],\n",
      "  \"roomType\": \"group\",\n",
      "  \"id\": \"Y2lzY29zcGFyazovL3VzL01FU1NBR0UvY2FjMzM1ZDAtNTVkNy0xMWU3LTliZmMtYjFkNGNiZTI3MDVi\",\n",
      "  \"roomId\": \"Y2lzY29zcGFyazovL3VzL1JPT00vM2Q3MjE0ODAtNDA3NC0xMWU3LTk3MDgtMGRmOWNkNzFjNWQx\",\n",
      "  \"personId\": \"Y2lzY29zcGFyazovL3VzL1BFT1BMRS8wNzhkOGVjMi05Mjg5LTQ2NTUtOWE5NC0wNDNiOWVjMTMyOTk\",\n",
      "  \"personEmail\": \"jkrohn@cisco.com\",\n",
      "  \"created\": \"2017-06-20T16:44:56.621Z\"\n",
      "}\n",
      "Message:\n",
      "{\n",
      "  \"files\": [\n",
      "    \"https://api.ciscospark.com/v1/contents/Y2lzY29zcGFyazovL3VzL0NPTlRFTlQvYzhiYjA5YzAtNTVkNy0xMWU3LWE4ZWMtMzU0NGIwMmE3ODRlLzA\"\n",
      "  ],\n",
      "  \"roomType\": \"group\",\n",
      "  \"id\": \"Y2lzY29zcGFyazovL3VzL01FU1NBR0UvYzhiYjA5YzAtNTVkNy0xMWU3LWE4ZWMtMzU0NGIwMmE3ODRl\",\n",
      "  \"roomId\": \"Y2lzY29zcGFyazovL3VzL1JPT00vM2Q3MjE0ODAtNDA3NC0xMWU3LTk3MDgtMGRmOWNkNzFjNWQx\",\n",
      "  \"personId\": \"Y2lzY29zcGFyazovL3VzL1BFT1BMRS8wNzhkOGVjMi05Mjg5LTQ2NTUtOWE5NC0wNDNiOWVjMTMyOTk\",\n",
      "  \"personEmail\": \"jkrohn@cisco.com\",\n",
      "  \"created\": \"2017-06-20T16:44:53.212Z\"\n",
      "}\n",
      "Message:\n",
      "{\n",
      "  \"files\": [\n",
      "    \"https://api.ciscospark.com/v1/contents/Y2lzY29zcGFyazovL3VzL0NPTlRFTlQvYzZjMDI0MjAtNTVkNy0xMWU3LTllZTktMjE4NjlkYjBhM2UzLzA\"\n",
      "  ],\n",
      "  \"roomType\": \"group\",\n",
      "  \"id\": \"Y2lzY29zcGFyazovL3VzL01FU1NBR0UvYzZjMDI0MjAtNTVkNy0xMWU3LTllZTktMjE4NjlkYjBhM2Uz\",\n",
      "  \"roomId\": \"Y2lzY29zcGFyazovL3VzL1JPT00vM2Q3MjE0ODAtNDA3NC0xMWU3LTk3MDgtMGRmOWNkNzFjNWQx\",\n",
      "  \"personId\": \"Y2lzY29zcGFyazovL3VzL1BFT1BMRS8wNzhkOGVjMi05Mjg5LTQ2NTUtOWE5NC0wNDNiOWVjMTMyOTk\",\n",
      "  \"personEmail\": \"jkrohn@cisco.com\",\n",
      "  \"created\": \"2017-06-20T16:44:49.890Z\"\n",
      "}\n",
      "Message:\n",
      "{\n",
      "  \"text\": \"Traffic in Germany\",\n",
      "  \"roomType\": \"group\",\n",
      "  \"id\": \"Y2lzY29zcGFyazovL3VzL01FU1NBR0UvYzQ1ZGEzMTAtNTVkNy0xMWU3LWIxZTItMWQ0M2Y1ZmU3NzNj\",\n",
      "  \"roomId\": \"Y2lzY29zcGFyazovL3VzL1JPT00vM2Q3MjE0ODAtNDA3NC0xMWU3LTk3MDgtMGRmOWNkNzFjNWQx\",\n",
      "  \"personId\": \"Y2lzY29zcGFyazovL3VzL1BFT1BMRS8wNzhkOGVjMi05Mjg5LTQ2NTUtOWE5NC0wNDNiOWVjMTMyOTk\",\n",
      "  \"personEmail\": \"jkrohn@cisco.com\",\n",
      "  \"created\": \"2017-06-20T16:44:45.889Z\"\n",
      "}\n",
      "Message:\n",
      "{\n",
      "  \"text\": \"2017-06-20 18:44:41.633400: Messages can contain links. And multiple lines of text. Bold text is also possible. Lists can contain multiple entries Or can be ordered\",\n",
      "  \"created\": \"2017-06-20T16:44:42.303Z\",\n",
      "  \"roomType\": \"group\",\n",
      "  \"id\": \"Y2lzY29zcGFyazovL3VzL01FU1NBR0UvYzIzYTc0ZjAtNTVkNy0xMWU3LThjMzktZTU5OGZlM2VlZWQ4\",\n",
      "  \"roomId\": \"Y2lzY29zcGFyazovL3VzL1JPT00vM2Q3MjE0ODAtNDA3NC0xMWU3LTk3MDgtMGRmOWNkNzFjNWQx\",\n",
      "  \"personId\": \"Y2lzY29zcGFyazovL3VzL1BFT1BMRS8wNzhkOGVjMi05Mjg5LTQ2NTUtOWE5NC0wNDNiOWVjMTMyOTk\",\n",
      "  \"personEmail\": \"jkrohn@cisco.com\",\n",
      "  \"html\": \"<p>2017-06-20 18:44:41.633400: Messages can contain <a href=\\\"http://www.ciscolive.com/online\\\">links</a>.</p><p>And multiple lines of text.</p><p><strong>Bold</strong> text is also possible.</p><p>Lists</p><ul><li>can</li><li>contain</li><li>multiple</li><li>entries</li></ul><p>Or</p><ol><li>can</li><li>be</li><li>ordered</li></ol>\",\n",
      "  \"markdown\": \"2017-06-20 18:44:41.633400: Messages can contain [links](http://www.ciscolive.com/online).\\n\\nAnd multiple lines of text.\\n\\n**Bold** text is also possible.\\n\\nLists\\n- can\\n- contain\\n- multiple\\n- entries\\n\\nOr\\n1. can\\n2. be\\n3. ordered\\n\"\n",
      "}\n",
      "Message:\n",
      "{\n",
      "  \"text\": \"2017-06-20 18:44:38.671982: Test\",\n",
      "  \"roomType\": \"group\",\n",
      "  \"id\": \"Y2lzY29zcGFyazovL3VzL01FU1NBR0UvYzA3ZDgyYjAtNTVkNy0xMWU3LTliZmMtYjFkNGNiZTI3MDVi\",\n",
      "  \"roomId\": \"Y2lzY29zcGFyazovL3VzL1JPT00vM2Q3MjE0ODAtNDA3NC0xMWU3LTk3MDgtMGRmOWNkNzFjNWQx\",\n",
      "  \"personId\": \"Y2lzY29zcGFyazovL3VzL1BFT1BMRS8wNzhkOGVjMi05Mjg5LTQ2NTUtOWE5NC0wNDNiOWVjMTMyOTk\",\n",
      "  \"personEmail\": \"jkrohn@cisco.com\",\n",
      "  \"created\": \"2017-06-20T16:44:39.387Z\"\n",
      "}\n",
      "Message:\n",
      "{\n",
      "  \"text\": \"Hi Johannes Krohn, thanks for your message (Testbot, Hi there).\",\n",
      "  \"mentionedPeople\": [\n",
      "    \"Y2lzY29zcGFyazovL3VzL1BFT1BMRS8wNzhkOGVjMi05Mjg5LTQ2NTUtOWE5NC0wNDNiOWVjMTMyOTk\"\n",
      "  ],\n",
      "  \"roomType\": \"group\",\n",
      "  \"id\": \"Y2lzY29zcGFyazovL3VzL01FU1NBR0UvYmU4NjYzMTAtNTVkNi0xMWU3LWE4YTItZDUyYzJjYWQ4NWU5\",\n",
      "  \"roomId\": \"Y2lzY29zcGFyazovL3VzL1JPT00vM2Q3MjE0ODAtNDA3NC0xMWU3LTk3MDgtMGRmOWNkNzFjNWQx\",\n",
      "  \"personId\": \"Y2lzY29zcGFyazovL3VzL1BFT1BMRS9iMTVlZGYyMi1lYWNlLTRlNTctOGQ4ZC0wZDg1MjhkZjBmMGQ\",\n",
      "  \"personEmail\": \"brkcol2175@sparkbot.io\",\n",
      "  \"html\": \"<p>Hi <spark-mention data-object-type=\\\"person\\\" data-object-id=\\\"Y2lzY29zcGFyazovL3VzL1BFT1BMRS8wNzhkOGVjMi05Mjg5LTQ2NTUtOWE5NC0wNDNiOWVjMTMyOTk\\\">Johannes Krohn</spark-mention>, thanks for your message (Testbot, Hi there).</p>\",\n",
      "  \"created\": \"2017-06-20T16:37:26.593Z\",\n",
      "  \"markdown\": \"Hi <spark-mention data-object-type=\\\"person\\\" data-object-id=\\\"Y2lzY29zcGFyazovL3VzL1BFT1BMRS8wNzhkOGVjMi05Mjg5LTQ2NTUtOWE5NC0wNDNiOWVjMTMyOTk\\\">Johannes Krohn</spark-mention>, thanks for your message (Testbot, Hi there).\"\n",
      "}\n",
      "Message:\n",
      "{\n",
      "  \"text\": \"Testbot, Hi there\",\n",
      "  \"mentionedPeople\": [\n",
      "    \"Y2lzY29zcGFyazovL3VzL1BFT1BMRS9iMTVlZGYyMi1lYWNlLTRlNTctOGQ4ZC0wZDg1MjhkZjBmMGQ\"\n",
      "  ],\n",
      "  \"roomType\": \"group\",\n",
      "  \"id\": \"Y2lzY29zcGFyazovL3VzL01FU1NBR0UvYmQzNDY3YTAtNTVkNi0xMWU3LThjMjQtZjFlYTY4N2I2YTEy\",\n",
      "  \"roomId\": \"Y2lzY29zcGFyazovL3VzL1JPT00vM2Q3MjE0ODAtNDA3NC0xMWU3LTk3MDgtMGRmOWNkNzFjNWQx\",\n",
      "  \"personId\": \"Y2lzY29zcGFyazovL3VzL1BFT1BMRS8wNzhkOGVjMi05Mjg5LTQ2NTUtOWE5NC0wNDNiOWVjMTMyOTk\",\n",
      "  \"personEmail\": \"jkrohn@cisco.com\",\n",
      "  \"html\": \"<p><spark-mention data-object-type=\\\"person\\\" data-object-id=\\\"Y2lzY29zcGFyazovL3VzL1BFT1BMRS9iMTVlZGYyMi1lYWNlLTRlNTctOGQ4ZC0wZDg1MjhkZjBmMGQ\\\">Testbot</spark-mention>, Hi there</p>\",\n",
      "  \"created\": \"2017-06-20T16:37:24.378Z\"\n",
      "}\n",
      "Message:\n",
      "{\n",
      "  \"text\": \"asj kah kahd kjdhak a\",\n",
      "  \"roomType\": \"group\",\n",
      "  \"id\": \"Y2lzY29zcGFyazovL3VzL01FU1NBR0UvYjAwMTU4OTAtNTVkNi0xMWU3LWIwZGYtZWI1MWIwZWQ0Yzlk\",\n",
      "  \"roomId\": \"Y2lzY29zcGFyazovL3VzL1JPT00vM2Q3MjE0ODAtNDA3NC0xMWU3LTk3MDgtMGRmOWNkNzFjNWQx\",\n",
      "  \"personId\": \"Y2lzY29zcGFyazovL3VzL1BFT1BMRS8wNzhkOGVjMi05Mjg5LTQ2NTUtOWE5NC0wNDNiOWVjMTMyOTk\",\n",
      "  \"personEmail\": \"jkrohn@cisco.com\",\n",
      "  \"created\": \"2017-06-20T16:37:02.233Z\"\n",
      "}\n",
      "Message:\n",
      "{\n",
      "  \"text\": \"Test message\",\n",
      "  \"roomType\": \"group\",\n",
      "  \"id\": \"Y2lzY29zcGFyazovL3VzL01FU1NBR0UvMjM1ODZjMzAtNTI5ZC0xMWU3LThlYzgtMWIxMzJlNTk0NTY3\",\n",
      "  \"roomId\": \"Y2lzY29zcGFyazovL3VzL1JPT00vM2Q3MjE0ODAtNDA3NC0xMWU3LTk3MDgtMGRmOWNkNzFjNWQx\",\n",
      "  \"personId\": \"Y2lzY29zcGFyazovL3VzL1BFT1BMRS8yOWMwNzZmYy1kODNkLTRlMzctYTBmYS0xNmY0MmQ0NDg2M2Y\",\n",
      "  \"personEmail\": \"johannes.krohn@krohns.de\",\n",
      "  \"created\": \"2017-06-16T14:07:31.443Z\"\n",
      "}\n"
     ]
    }
   ],
   "source": [
    "import ciscosparkapi\n",
    "\n",
    "api = ciscosparkapi.CiscoSparkAPI(access_token=access_token)\n",
    "\n",
    "messages = api.messages.list(roomId=target_space.id, max=1000)\n",
    "for m in messages:\n",
    "    print(m)"
   ]
  },
  {
   "cell_type": "markdown",
   "metadata": {},
   "source": [
    "## Filtering messages (messages posted by me)\n",
    "\n",
    "Using the same mechanisms as above we can easily filter for messages posted by ourself by looking at the `personId` of the messages in the space."
   ]
  },
  {
   "cell_type": "code",
   "execution_count": 21,
   "metadata": {},
   "outputs": [
    {
     "name": "stdout",
     "output_type": "stream",
     "text": [
      "23 messages posted by me\n"
     ]
    },
    {
     "data": {
      "text/plain": [
       "[Message({\"text\": \"Here is the agenda\", \"files\": [\"https://api.ciscospark.com/v1/contents/Y2lzY29zcGFyazovL3VzL0NPTlRFTlQvZjJhNjJjNDAtNTkwMy0xMWU3LWI5MTgtNGIxNzc1MjkzOTFlLzA\"], \"roomType\": \"group\", \"id\": \"Y2lzY29zcGFyazovL3VzL01FU1NBR0UvZjJhNjJjNDAtNTkwMy0xMWU3LWI5MTgtNGIxNzc1MjkzOTFl\", \"personId\": \"Y2lzY29zcGFyazovL3VzL1BFT1BMRS8wNzhkOGVjMi05Mjg5LTQ2NTUtOWE5NC0wNDNiOWVjMTMyOTk\", \"roomId\": \"Y2lzY29zcGFyazovL3VzL1JPT00vM2Q3MjE0ODAtNDA3NC0xMWU3LTk3MDgtMGRmOWNkNzFjNWQx\", \"personEmail\": \"jkrohn@cisco.com\", \"created\": \"2017-06-24T17:38:34.884Z\"}),\n",
       " Message({\"files\": [\"https://api.ciscospark.com/v1/contents/Y2lzY29zcGFyazovL3VzL0NPTlRFTlQvZjA2MDVhZjAtNTkwMy0xMWU3LTg2YzgtMzMxYjczODA3NjNiLzA\"], \"roomType\": \"group\", \"id\": \"Y2lzY29zcGFyazovL3VzL01FU1NBR0UvZjA2MDVhZjAtNTkwMy0xMWU3LTg2YzgtMzMxYjczODA3NjNi\", \"roomId\": \"Y2lzY29zcGFyazovL3VzL1JPT00vM2Q3MjE0ODAtNDA3NC0xMWU3LTk3MDgtMGRmOWNkNzFjNWQx\", \"personId\": \"Y2lzY29zcGFyazovL3VzL1BFT1BMRS8wNzhkOGVjMi05Mjg5LTQ2NTUtOWE5NC0wNDNiOWVjMTMyOTk\", \"personEmail\": \"jkrohn@cisco.com\", \"created\": \"2017-06-24T17:38:31.071Z\"}),\n",
       " Message({\"files\": [\"https://api.ciscospark.com/v1/contents/Y2lzY29zcGFyazovL3VzL0NPTlRFTlQvZWU2NmFkZDAtNTkwMy0xMWU3LWJlYjYtMzUyMjA4MDUzODRhLzA\"], \"roomType\": \"group\", \"id\": \"Y2lzY29zcGFyazovL3VzL01FU1NBR0UvZWU2NmFkZDAtNTkwMy0xMWU3LWJlYjYtMzUyMjA4MDUzODRh\", \"roomId\": \"Y2lzY29zcGFyazovL3VzL1JPT00vM2Q3MjE0ODAtNDA3NC0xMWU3LTk3MDgtMGRmOWNkNzFjNWQx\", \"personId\": \"Y2lzY29zcGFyazovL3VzL1BFT1BMRS8wNzhkOGVjMi05Mjg5LTQ2NTUtOWE5NC0wNDNiOWVjMTMyOTk\", \"personEmail\": \"jkrohn@cisco.com\", \"created\": \"2017-06-24T17:38:27.757Z\"}),\n",
       " Message({\"files\": [\"https://api.ciscospark.com/v1/contents/Y2lzY29zcGFyazovL3VzL0NPTlRFTlQvZWJiZTRhMjAtNTkwMy0xMWU3LWFhMmEtNTkwODIwYWIzNzVhLzA\"], \"roomType\": \"group\", \"id\": \"Y2lzY29zcGFyazovL3VzL01FU1NBR0UvZWJiZTRhMjAtNTkwMy0xMWU3LWFhMmEtNTkwODIwYWIzNzVh\", \"roomId\": \"Y2lzY29zcGFyazovL3VzL1JPT00vM2Q3MjE0ODAtNDA3NC0xMWU3LTk3MDgtMGRmOWNkNzFjNWQx\", \"personId\": \"Y2lzY29zcGFyazovL3VzL1BFT1BMRS8wNzhkOGVjMi05Mjg5LTQ2NTUtOWE5NC0wNDNiOWVjMTMyOTk\", \"personEmail\": \"jkrohn@cisco.com\", \"created\": \"2017-06-24T17:38:23.298Z\"}),\n",
       " Message({\"text\": \"Traffic in Germany\", \"roomType\": \"group\", \"id\": \"Y2lzY29zcGFyazovL3VzL01FU1NBR0UvZThmNDA2OTAtNTkwMy0xMWU3LTg1ZTUtMTU4MWEyMjJlNGEw\", \"roomId\": \"Y2lzY29zcGFyazovL3VzL1JPT00vM2Q3MjE0ODAtNDA3NC0xMWU3LTk3MDgtMGRmOWNkNzFjNWQx\", \"personId\": \"Y2lzY29zcGFyazovL3VzL1BFT1BMRS8wNzhkOGVjMi05Mjg5LTQ2NTUtOWE5NC0wNDNiOWVjMTMyOTk\", \"personEmail\": \"jkrohn@cisco.com\", \"created\": \"2017-06-24T17:38:18.617Z\"}),\n",
       " Message({\"text\": \"2017-06-24 10:38:07.984087: Messages can contain links. And multiple lines of text. Bold text is also possible. Lists can contain multiple entries Or can be ordered\", \"created\": \"2017-06-24T17:38:11.544Z\", \"roomType\": \"group\", \"id\": \"Y2lzY29zcGFyazovL3VzL01FU1NBR0UvZTRiY2M1ODAtNTkwMy0xMWU3LTg5MzAtZWZhYTI5ZDZhZmE0\", \"roomId\": \"Y2lzY29zcGFyazovL3VzL1JPT00vM2Q3MjE0ODAtNDA3NC0xMWU3LTk3MDgtMGRmOWNkNzFjNWQx\", \"personId\": \"Y2lzY29zcGFyazovL3VzL1BFT1BMRS8wNzhkOGVjMi05Mjg5LTQ2NTUtOWE5NC0wNDNiOWVjMTMyOTk\", \"personEmail\": \"jkrohn@cisco.com\", \"html\": \"<p>2017-06-24 10:38:07.984087: Messages can contain <a href=\\\"http://www.ciscolive.com/online\\\">links</a>.</p><p>And multiple lines of text.</p><p><strong>Bold</strong> text is also possible.</p><p>Lists</p><ul><li>can</li><li>contain</li><li>multiple</li><li>entries</li></ul><p>Or</p><ol><li>can</li><li>be</li><li>ordered</li></ol>\", \"markdown\": \"2017-06-24 10:38:07.984087: Messages can contain [links](http://www.ciscolive.com/online).\\n\\nAnd multiple lines of text.\\n\\n**Bold** text is also possible.\\n\\nLists\\n- can\\n- contain\\n- multiple\\n- entries\\n\\nOr\\n1. can\\n2. be\\n3. ordered\\n\"}),\n",
       " Message({\"text\": \"2017-06-24 10:38:00.091608: Test\", \"roomType\": \"group\", \"id\": \"Y2lzY29zcGFyazovL3VzL01FU1NBR0UvZGY3OGE4NTAtNTkwMy0xMWU3LTgxNDktY2Y4OTVjNTliZTU3\", \"roomId\": \"Y2lzY29zcGFyazovL3VzL1JPT00vM2Q3MjE0ODAtNDA3NC0xMWU3LTk3MDgtMGRmOWNkNzFjNWQx\", \"personId\": \"Y2lzY29zcGFyazovL3VzL1BFT1BMRS8wNzhkOGVjMi05Mjg5LTQ2NTUtOWE5NC0wNDNiOWVjMTMyOTk\", \"personEmail\": \"jkrohn@cisco.com\", \"created\": \"2017-06-24T17:38:02.709Z\"}),\n",
       " Message({\"files\": [\"https://api.ciscospark.com/v1/contents/Y2lzY29zcGFyazovL3VzL0NPTlRFTlQvZTlkNjNhMzAtNTVkNy0xMWU3LThlMmItMzczZjAyN2M4ODVmLzA\"], \"roomType\": \"group\", \"id\": \"Y2lzY29zcGFyazovL3VzL01FU1NBR0UvZTlkNjNhMzAtNTVkNy0xMWU3LThlMmItMzczZjAyN2M4ODVm\", \"roomId\": \"Y2lzY29zcGFyazovL3VzL1JPT00vM2Q3MjE0ODAtNDA3NC0xMWU3LTk3MDgtMGRmOWNkNzFjNWQx\", \"personId\": \"Y2lzY29zcGFyazovL3VzL1BFT1BMRS8wNzhkOGVjMi05Mjg5LTQ2NTUtOWE5NC0wNDNiOWVjMTMyOTk\", \"personEmail\": \"jkrohn@cisco.com\", \"created\": \"2017-06-20T16:45:48.755Z\"}),\n",
       " Message({\"files\": [\"https://api.ciscospark.com/v1/contents/Y2lzY29zcGFyazovL3VzL0NPTlRFTlQvZTg2OGEwNzAtNTVkNy0xMWU3LThjMjQtZjFlYTY4N2I2YTEyLzA\"], \"roomType\": \"group\", \"id\": \"Y2lzY29zcGFyazovL3VzL01FU1NBR0UvZTg2OGEwNzAtNTVkNy0xMWU3LThjMjQtZjFlYTY4N2I2YTEy\", \"roomId\": \"Y2lzY29zcGFyazovL3VzL1JPT00vM2Q3MjE0ODAtNDA3NC0xMWU3LTk3MDgtMGRmOWNkNzFjNWQx\", \"personId\": \"Y2lzY29zcGFyazovL3VzL1BFT1BMRS8wNzhkOGVjMi05Mjg5LTQ2NTUtOWE5NC0wNDNiOWVjMTMyOTk\", \"personEmail\": \"jkrohn@cisco.com\", \"created\": \"2017-06-20T16:45:46.359Z\"}),\n",
       " Message({\"files\": [\"https://api.ciscospark.com/v1/contents/Y2lzY29zcGFyazovL3VzL0NPTlRFTlQvZTZlMjAwNzAtNTVkNy0xMWU3LWE4ZWMtMzU0NGIwMmE3ODRlLzA\"], \"roomType\": \"group\", \"id\": \"Y2lzY29zcGFyazovL3VzL01FU1NBR0UvZTZlMjAwNzAtNTVkNy0xMWU3LWE4ZWMtMzU0NGIwMmE3ODRl\", \"roomId\": \"Y2lzY29zcGFyazovL3VzL1JPT00vM2Q3MjE0ODAtNDA3NC0xMWU3LTk3MDgtMGRmOWNkNzFjNWQx\", \"personId\": \"Y2lzY29zcGFyazovL3VzL1BFT1BMRS8wNzhkOGVjMi05Mjg5LTQ2NTUtOWE5NC0wNDNiOWVjMTMyOTk\", \"personEmail\": \"jkrohn@cisco.com\", \"created\": \"2017-06-20T16:45:43.799Z\"}),\n",
       " Message({\"files\": [\"https://api.ciscospark.com/v1/contents/Y2lzY29zcGFyazovL3VzL0NPTlRFTlQvZTU1Yjg3ODAtNTVkNy0xMWU3LTg1OTMtYTEzZjcyNjg2ZDhmLzA\"], \"roomType\": \"group\", \"id\": \"Y2lzY29zcGFyazovL3VzL01FU1NBR0UvZTU1Yjg3ODAtNTVkNy0xMWU3LTg1OTMtYTEzZjcyNjg2ZDhm\", \"roomId\": \"Y2lzY29zcGFyazovL3VzL1JPT00vM2Q3MjE0ODAtNDA3NC0xMWU3LTk3MDgtMGRmOWNkNzFjNWQx\", \"personId\": \"Y2lzY29zcGFyazovL3VzL1BFT1BMRS8wNzhkOGVjMi05Mjg5LTQ2NTUtOWE5NC0wNDNiOWVjMTMyOTk\", \"personEmail\": \"jkrohn@cisco.com\", \"created\": \"2017-06-20T16:45:41.240Z\"}),\n",
       " Message({\"text\": \"Some attachments\", \"roomType\": \"group\", \"id\": \"Y2lzY29zcGFyazovL3VzL01FU1NBR0UvZTNhZWU4ZjAtNTVkNy0xMWU3LWI2NWUtYWZiNDg1ZTRiMjI1\", \"roomId\": \"Y2lzY29zcGFyazovL3VzL1JPT00vM2Q3MjE0ODAtNDA3NC0xMWU3LTk3MDgtMGRmOWNkNzFjNWQx\", \"personId\": \"Y2lzY29zcGFyazovL3VzL1BFT1BMRS8wNzhkOGVjMi05Mjg5LTQ2NTUtOWE5NC0wNDNiOWVjMTMyOTk\", \"personEmail\": \"jkrohn@cisco.com\", \"created\": \"2017-06-20T16:45:38.431Z\"}),\n",
       " Message({\"text\": \"Posted via the ciscosparkapi API\", \"created\": \"2017-06-20T16:45:38.157Z\", \"roomType\": \"group\", \"id\": \"Y2lzY29zcGFyazovL3VzL01FU1NBR0UvZTM4NTE5ZDAtNTVkNy0xMWU3LWI5YTQtMWY3OTFmMjZkNDE3\", \"roomId\": \"Y2lzY29zcGFyazovL3VzL1JPT00vM2Q3MjE0ODAtNDA3NC0xMWU3LTk3MDgtMGRmOWNkNzFjNWQx\", \"personId\": \"Y2lzY29zcGFyazovL3VzL1BFT1BMRS8wNzhkOGVjMi05Mjg5LTQ2NTUtOWE5NC0wNDNiOWVjMTMyOTk\", \"personEmail\": \"jkrohn@cisco.com\", \"html\": \"<p>Posted via the <strong><code>ciscosparkapi</code></strong> API</p>\", \"markdown\": \"Posted via the **`ciscosparkapi`** API\"}),\n",
       " Message({\"text\": \"Posted via the ciscosparkapi API\", \"roomType\": \"group\", \"id\": \"Y2lzY29zcGFyazovL3VzL01FU1NBR0UvZTMyMWM0MjAtNTVkNy0xMWU3LTg2ZmItZjMyNDY5NTU0M2Qy\", \"roomId\": \"Y2lzY29zcGFyazovL3VzL1JPT00vM2Q3MjE0ODAtNDA3NC0xMWU3LTk3MDgtMGRmOWNkNzFjNWQx\", \"personId\": \"Y2lzY29zcGFyazovL3VzL1BFT1BMRS8wNzhkOGVjMi05Mjg5LTQ2NTUtOWE5NC0wNDNiOWVjMTMyOTk\", \"personEmail\": \"jkrohn@cisco.com\", \"created\": \"2017-06-20T16:45:37.506Z\"}),\n",
       " Message({\"text\": \"Here is the agenda\", \"files\": [\"https://api.ciscospark.com/v1/contents/Y2lzY29zcGFyazovL3VzL0NPTlRFTlQvY2VhYTBjZjAtNTVkNy0xMWU3LWIwZGYtZWI1MWIwZWQ0YzlkLzA\"], \"roomType\": \"group\", \"id\": \"Y2lzY29zcGFyazovL3VzL01FU1NBR0UvY2VhYTBjZjAtNTVkNy0xMWU3LWIwZGYtZWI1MWIwZWQ0Yzlk\", \"personId\": \"Y2lzY29zcGFyazovL3VzL1BFT1BMRS8wNzhkOGVjMi05Mjg5LTQ2NTUtOWE5NC0wNDNiOWVjMTMyOTk\", \"roomId\": \"Y2lzY29zcGFyazovL3VzL1JPT00vM2Q3MjE0ODAtNDA3NC0xMWU3LTk3MDgtMGRmOWNkNzFjNWQx\", \"personEmail\": \"jkrohn@cisco.com\", \"created\": \"2017-06-20T16:45:03.167Z\"}),\n",
       " Message({\"files\": [\"https://api.ciscospark.com/v1/contents/Y2lzY29zcGFyazovL3VzL0NPTlRFTlQvY2FjMzM1ZDAtNTVkNy0xMWU3LTliZmMtYjFkNGNiZTI3MDViLzA\"], \"roomType\": \"group\", \"id\": \"Y2lzY29zcGFyazovL3VzL01FU1NBR0UvY2FjMzM1ZDAtNTVkNy0xMWU3LTliZmMtYjFkNGNiZTI3MDVi\", \"roomId\": \"Y2lzY29zcGFyazovL3VzL1JPT00vM2Q3MjE0ODAtNDA3NC0xMWU3LTk3MDgtMGRmOWNkNzFjNWQx\", \"personId\": \"Y2lzY29zcGFyazovL3VzL1BFT1BMRS8wNzhkOGVjMi05Mjg5LTQ2NTUtOWE5NC0wNDNiOWVjMTMyOTk\", \"personEmail\": \"jkrohn@cisco.com\", \"created\": \"2017-06-20T16:44:56.621Z\"}),\n",
       " Message({\"files\": [\"https://api.ciscospark.com/v1/contents/Y2lzY29zcGFyazovL3VzL0NPTlRFTlQvYzhiYjA5YzAtNTVkNy0xMWU3LWE4ZWMtMzU0NGIwMmE3ODRlLzA\"], \"roomType\": \"group\", \"id\": \"Y2lzY29zcGFyazovL3VzL01FU1NBR0UvYzhiYjA5YzAtNTVkNy0xMWU3LWE4ZWMtMzU0NGIwMmE3ODRl\", \"roomId\": \"Y2lzY29zcGFyazovL3VzL1JPT00vM2Q3MjE0ODAtNDA3NC0xMWU3LTk3MDgtMGRmOWNkNzFjNWQx\", \"personId\": \"Y2lzY29zcGFyazovL3VzL1BFT1BMRS8wNzhkOGVjMi05Mjg5LTQ2NTUtOWE5NC0wNDNiOWVjMTMyOTk\", \"personEmail\": \"jkrohn@cisco.com\", \"created\": \"2017-06-20T16:44:53.212Z\"}),\n",
       " Message({\"files\": [\"https://api.ciscospark.com/v1/contents/Y2lzY29zcGFyazovL3VzL0NPTlRFTlQvYzZjMDI0MjAtNTVkNy0xMWU3LTllZTktMjE4NjlkYjBhM2UzLzA\"], \"roomType\": \"group\", \"id\": \"Y2lzY29zcGFyazovL3VzL01FU1NBR0UvYzZjMDI0MjAtNTVkNy0xMWU3LTllZTktMjE4NjlkYjBhM2Uz\", \"roomId\": \"Y2lzY29zcGFyazovL3VzL1JPT00vM2Q3MjE0ODAtNDA3NC0xMWU3LTk3MDgtMGRmOWNkNzFjNWQx\", \"personId\": \"Y2lzY29zcGFyazovL3VzL1BFT1BMRS8wNzhkOGVjMi05Mjg5LTQ2NTUtOWE5NC0wNDNiOWVjMTMyOTk\", \"personEmail\": \"jkrohn@cisco.com\", \"created\": \"2017-06-20T16:44:49.890Z\"}),\n",
       " Message({\"text\": \"Traffic in Germany\", \"roomType\": \"group\", \"id\": \"Y2lzY29zcGFyazovL3VzL01FU1NBR0UvYzQ1ZGEzMTAtNTVkNy0xMWU3LWIxZTItMWQ0M2Y1ZmU3NzNj\", \"roomId\": \"Y2lzY29zcGFyazovL3VzL1JPT00vM2Q3MjE0ODAtNDA3NC0xMWU3LTk3MDgtMGRmOWNkNzFjNWQx\", \"personId\": \"Y2lzY29zcGFyazovL3VzL1BFT1BMRS8wNzhkOGVjMi05Mjg5LTQ2NTUtOWE5NC0wNDNiOWVjMTMyOTk\", \"personEmail\": \"jkrohn@cisco.com\", \"created\": \"2017-06-20T16:44:45.889Z\"}),\n",
       " Message({\"text\": \"2017-06-20 18:44:41.633400: Messages can contain links. And multiple lines of text. Bold text is also possible. Lists can contain multiple entries Or can be ordered\", \"created\": \"2017-06-20T16:44:42.303Z\", \"roomType\": \"group\", \"id\": \"Y2lzY29zcGFyazovL3VzL01FU1NBR0UvYzIzYTc0ZjAtNTVkNy0xMWU3LThjMzktZTU5OGZlM2VlZWQ4\", \"roomId\": \"Y2lzY29zcGFyazovL3VzL1JPT00vM2Q3MjE0ODAtNDA3NC0xMWU3LTk3MDgtMGRmOWNkNzFjNWQx\", \"personId\": \"Y2lzY29zcGFyazovL3VzL1BFT1BMRS8wNzhkOGVjMi05Mjg5LTQ2NTUtOWE5NC0wNDNiOWVjMTMyOTk\", \"personEmail\": \"jkrohn@cisco.com\", \"html\": \"<p>2017-06-20 18:44:41.633400: Messages can contain <a href=\\\"http://www.ciscolive.com/online\\\">links</a>.</p><p>And multiple lines of text.</p><p><strong>Bold</strong> text is also possible.</p><p>Lists</p><ul><li>can</li><li>contain</li><li>multiple</li><li>entries</li></ul><p>Or</p><ol><li>can</li><li>be</li><li>ordered</li></ol>\", \"markdown\": \"2017-06-20 18:44:41.633400: Messages can contain [links](http://www.ciscolive.com/online).\\n\\nAnd multiple lines of text.\\n\\n**Bold** text is also possible.\\n\\nLists\\n- can\\n- contain\\n- multiple\\n- entries\\n\\nOr\\n1. can\\n2. be\\n3. ordered\\n\"}),\n",
       " Message({\"text\": \"2017-06-20 18:44:38.671982: Test\", \"roomType\": \"group\", \"id\": \"Y2lzY29zcGFyazovL3VzL01FU1NBR0UvYzA3ZDgyYjAtNTVkNy0xMWU3LTliZmMtYjFkNGNiZTI3MDVi\", \"roomId\": \"Y2lzY29zcGFyazovL3VzL1JPT00vM2Q3MjE0ODAtNDA3NC0xMWU3LTk3MDgtMGRmOWNkNzFjNWQx\", \"personId\": \"Y2lzY29zcGFyazovL3VzL1BFT1BMRS8wNzhkOGVjMi05Mjg5LTQ2NTUtOWE5NC0wNDNiOWVjMTMyOTk\", \"personEmail\": \"jkrohn@cisco.com\", \"created\": \"2017-06-20T16:44:39.387Z\"}),\n",
       " Message({\"text\": \"Testbot, Hi there\", \"mentionedPeople\": [\"Y2lzY29zcGFyazovL3VzL1BFT1BMRS9iMTVlZGYyMi1lYWNlLTRlNTctOGQ4ZC0wZDg1MjhkZjBmMGQ\"], \"roomType\": \"group\", \"id\": \"Y2lzY29zcGFyazovL3VzL01FU1NBR0UvYmQzNDY3YTAtNTVkNi0xMWU3LThjMjQtZjFlYTY4N2I2YTEy\", \"roomId\": \"Y2lzY29zcGFyazovL3VzL1JPT00vM2Q3MjE0ODAtNDA3NC0xMWU3LTk3MDgtMGRmOWNkNzFjNWQx\", \"personId\": \"Y2lzY29zcGFyazovL3VzL1BFT1BMRS8wNzhkOGVjMi05Mjg5LTQ2NTUtOWE5NC0wNDNiOWVjMTMyOTk\", \"personEmail\": \"jkrohn@cisco.com\", \"html\": \"<p><spark-mention data-object-type=\\\"person\\\" data-object-id=\\\"Y2lzY29zcGFyazovL3VzL1BFT1BMRS9iMTVlZGYyMi1lYWNlLTRlNTctOGQ4ZC0wZDg1MjhkZjBmMGQ\\\">Testbot</spark-mention>, Hi there</p>\", \"created\": \"2017-06-20T16:37:24.378Z\"}),\n",
       " Message({\"text\": \"asj kah kahd kjdhak a\", \"roomType\": \"group\", \"id\": \"Y2lzY29zcGFyazovL3VzL01FU1NBR0UvYjAwMTU4OTAtNTVkNi0xMWU3LWIwZGYtZWI1MWIwZWQ0Yzlk\", \"roomId\": \"Y2lzY29zcGFyazovL3VzL1JPT00vM2Q3MjE0ODAtNDA3NC0xMWU3LTk3MDgtMGRmOWNkNzFjNWQx\", \"personId\": \"Y2lzY29zcGFyazovL3VzL1BFT1BMRS8wNzhkOGVjMi05Mjg5LTQ2NTUtOWE5NC0wNDNiOWVjMTMyOTk\", \"personEmail\": \"jkrohn@cisco.com\", \"created\": \"2017-06-20T16:37:02.233Z\"})]"
      ]
     },
     "execution_count": 21,
     "metadata": {},
     "output_type": "execute_result"
    }
   ],
   "source": [
    "import ciscosparkapi\n",
    "\n",
    "api = ciscosparkapi.CiscoSparkAPI(access_token=access_token)\n",
    "\n",
    "me = api.people.me()\n",
    "\n",
    "messages = api.messages.list(roomId=target_space.id, max=2000)\n",
    "\n",
    "messages_posted_by_me = [m for m in messages if m.personId == me.id]\n",
    "\n",
    "print('{} messages posted by me'.format(len(messages_posted_by_me)))\n",
    "\n",
    "messages_posted_by_me"
   ]
  },
  {
   "cell_type": "markdown",
   "metadata": {},
   "source": [
    "## Creating messages\n",
    "\n",
    "The API wrapper also supports greating messages. When creating messages with attachments (`files` parameter is used) then the API makes sure to use multipart messages to upload if a local file is referenced in the `files` argument.\n"
   ]
  },
  {
   "cell_type": "code",
   "execution_count": 22,
   "metadata": {
    "collapsed": true
   },
   "outputs": [],
   "source": [
    "import ciscosparkapi\n",
    "\n",
    "api = ciscosparkapi.CiscoSparkAPI(access_token=access_token)\n",
    "\n",
    "api.messages.create(roomId=target_space.id, text='Posted via the ciscosparkapi API')\n",
    "\n",
    "api.messages.create(roomId=target_space.id, text='Posted via the ciscosparkapi API', markdown='Posted via the **`ciscosparkapi`** API')\n",
    "\n",
    "files = ['http://autobahn-rlp.de/syncdata/cam/380/thumb_640x480.jpg',\n",
    "         'http://autobahn-rlp.de/syncdata/cam/385/thumb_640x480.jpg',\n",
    "         'http://autobahn-rlp.de/syncdata/cam/165/thumb_640x480.jpg',\n",
    "         './BRKCOL-2175_Agenda.pdf']\n",
    "\n",
    "api.messages.create(roomId=target_space.id, text='Some attachments')\n",
    "# need to post the attachments individually as the Cisco Spark API currently only supports one attachment at a time.\n",
    "for file in files:\n",
    "    api.messages.create(roomId=target_space.id, files=[file])"
   ]
  },
  {
   "cell_type": "markdown",
   "metadata": {},
   "source": [
    "## Looking at memberships\n",
    "\n",
    "The memberships API app allows to read, or update Cisco Spark space memberships. "
   ]
  },
  {
   "cell_type": "code",
   "execution_count": 23,
   "metadata": {},
   "outputs": [
    {
     "name": "stdout",
     "output_type": "stream",
     "text": [
      "Membership:\n",
      "{\n",
      "  \"isMonitor\": false,\n",
      "  \"created\": \"2017-05-24T11:29:25.509Z\",\n",
      "  \"id\": \"Y2lzY29zcGFyazovL3VzL01FTUJFUlNISVAvMDc4ZDhlYzItOTI4OS00NjU1LTlhOTQtMDQzYjllYzEzMjk5OjNkNzIxNDgwLTQwNzQtMTFlNy05NzA4LTBkZjljZDcxYzVkMQ\",\n",
      "  \"personId\": \"Y2lzY29zcGFyazovL3VzL1BFT1BMRS8wNzhkOGVjMi05Mjg5LTQ2NTUtOWE5NC0wNDNiOWVjMTMyOTk\",\n",
      "  \"personDisplayName\": \"Johannes Krohn\",\n",
      "  \"personEmail\": \"jkrohn@cisco.com\",\n",
      "  \"isModerator\": false,\n",
      "  \"roomId\": \"Y2lzY29zcGFyazovL3VzL1JPT00vM2Q3MjE0ODAtNDA3NC0xMWU3LTk3MDgtMGRmOWNkNzFjNWQx\",\n",
      "  \"personOrgId\": \"Y2lzY29zcGFyazovL3VzL09SR0FOSVpBVElPTi8xZWI2NWZkZi05NjQzLTQxN2YtOTk3NC1hZDcyY2FlMGUxMGY\"\n",
      "}\n",
      "Membership:\n",
      "{\n",
      "  \"isMonitor\": false,\n",
      "  \"created\": \"2017-06-20T16:36:49.220Z\",\n",
      "  \"id\": \"Y2lzY29zcGFyazovL3VzL01FTUJFUlNISVAvYjE1ZWRmMjItZWFjZS00ZTU3LThkOGQtMGQ4NTI4ZGYwZjBkOjNkNzIxNDgwLTQwNzQtMTFlNy05NzA4LTBkZjljZDcxYzVkMQ\",\n",
      "  \"personId\": \"Y2lzY29zcGFyazovL3VzL1BFT1BMRS9iMTVlZGYyMi1lYWNlLTRlNTctOGQ4ZC0wZDg1MjhkZjBmMGQ\",\n",
      "  \"personDisplayName\": \"Testbot for BRKCOL-2175\",\n",
      "  \"personEmail\": \"brkcol2175@sparkbot.io\",\n",
      "  \"isModerator\": false,\n",
      "  \"roomId\": \"Y2lzY29zcGFyazovL3VzL1JPT00vM2Q3MjE0ODAtNDA3NC0xMWU3LTk3MDgtMGRmOWNkNzFjNWQx\",\n",
      "  \"personOrgId\": \"Y2lzY29zcGFyazovL3VzL09SR0FOSVpBVElPTi8xZWI2NWZkZi05NjQzLTQxN2YtOTk3NC1hZDcyY2FlMGUxMGY\"\n",
      "}\n",
      "Membership:\n",
      "{\n",
      "  \"isMonitor\": true,\n",
      "  \"created\": \"2017-05-24T11:29:25.509Z\",\n",
      "  \"id\": \"Y2lzY29zcGFyazovL3VzL01FTUJFUlNISVAvZjJlZmRmNmEtZTdmNC00M2ZhLTljYjMtMGFkMjkxODQwMDMwOjNkNzIxNDgwLTQwNzQtMTFlNy05NzA4LTBkZjljZDcxYzVkMQ\",\n",
      "  \"personId\": \"Y2lzY29zcGFyazovL3VzL1BFT1BMRS9mMmVmZGY2YS1lN2Y0LTQzZmEtOWNiMy0wYWQyOTE4NDAwMzA\",\n",
      "  \"personDisplayName\": \"Cisco Security\",\n",
      "  \"personEmail\": \"spark-cisco-it-admin-bot@cisco.com\",\n",
      "  \"isModerator\": false,\n",
      "  \"roomId\": \"Y2lzY29zcGFyazovL3VzL1JPT00vM2Q3MjE0ODAtNDA3NC0xMWU3LTk3MDgtMGRmOWNkNzFjNWQx\",\n",
      "  \"personOrgId\": \"Y2lzY29zcGFyazovL3VzL09SR0FOSVpBVElPTi8xZWI2NWZkZi05NjQzLTQxN2YtOTk3NC1hZDcyY2FlMGUxMGY\"\n",
      "}\n"
     ]
    }
   ],
   "source": [
    "import ciscosparkapi\n",
    "import base64\n",
    "\n",
    "api = ciscosparkapi.CiscoSparkAPI(access_token=access_token)\n",
    "\n",
    "members = api.memberships.list(roomId=target_space.id)\n",
    "for m in members:\n",
    "    print(m)\n"
   ]
  },
  {
   "cell_type": "markdown",
   "metadata": {},
   "source": [
    "## Bulk deleting messages\n",
    "With the list of messages posted by me we can easily delete all messages created by me\n",
    "\n",
    "# !!!BE CAREFUL WITH THIS CODE!!!\n",
    "# !!!MAKE SURE (TRIPPLE CHECK) TO USE A TEST SPACE ONLY!!!"
   ]
  },
  {
   "cell_type": "code",
   "execution_count": 24,
   "metadata": {},
   "outputs": [
    {
     "name": "stdout",
     "output_type": "stream",
     "text": [
      "Deleting 30 messsages\n",
      "Deleting message 1/Y2lzY29zcGFyazovL3VzL01FU1NBR0UvYjAwMTU4OTAtNTVkNi0xMWU3LWIwZGYtZWI1MWIwZWQ0Yzlk\n",
      "Deleting message 2/Y2lzY29zcGFyazovL3VzL01FU1NBR0UvYmQzNDY3YTAtNTVkNi0xMWU3LThjMjQtZjFlYTY4N2I2YTEy\n",
      "Deleting message 3/Y2lzY29zcGFyazovL3VzL01FU1NBR0UvYzA3ZDgyYjAtNTVkNy0xMWU3LTliZmMtYjFkNGNiZTI3MDVi\n",
      "Deleting message 4/Y2lzY29zcGFyazovL3VzL01FU1NBR0UvYzIzYTc0ZjAtNTVkNy0xMWU3LThjMzktZTU5OGZlM2VlZWQ4\n",
      "Deleting message 5/Y2lzY29zcGFyazovL3VzL01FU1NBR0UvYzQ1ZGEzMTAtNTVkNy0xMWU3LWIxZTItMWQ0M2Y1ZmU3NzNj\n",
      "Deleting message 6/Y2lzY29zcGFyazovL3VzL01FU1NBR0UvYzZjMDI0MjAtNTVkNy0xMWU3LTllZTktMjE4NjlkYjBhM2Uz\n",
      "Deleting message 7/Y2lzY29zcGFyazovL3VzL01FU1NBR0UvYzhiYjA5YzAtNTVkNy0xMWU3LWE4ZWMtMzU0NGIwMmE3ODRl\n",
      "Deleting message 8/Y2lzY29zcGFyazovL3VzL01FU1NBR0UvY2FjMzM1ZDAtNTVkNy0xMWU3LTliZmMtYjFkNGNiZTI3MDVi\n",
      "Deleting message 9/Y2lzY29zcGFyazovL3VzL01FU1NBR0UvY2VhYTBjZjAtNTVkNy0xMWU3LWIwZGYtZWI1MWIwZWQ0Yzlk\n",
      "Deleting message 10/Y2lzY29zcGFyazovL3VzL01FU1NBR0UvZTMyMWM0MjAtNTVkNy0xMWU3LTg2ZmItZjMyNDY5NTU0M2Qy\n",
      "Deleting message 11/Y2lzY29zcGFyazovL3VzL01FU1NBR0UvZTM4NTE5ZDAtNTVkNy0xMWU3LWI5YTQtMWY3OTFmMjZkNDE3\n",
      "Deleting message 12/Y2lzY29zcGFyazovL3VzL01FU1NBR0UvZTNhZWU4ZjAtNTVkNy0xMWU3LWI2NWUtYWZiNDg1ZTRiMjI1\n",
      "Deleting message 13/Y2lzY29zcGFyazovL3VzL01FU1NBR0UvZTU1Yjg3ODAtNTVkNy0xMWU3LTg1OTMtYTEzZjcyNjg2ZDhm\n",
      "Deleting message 14/Y2lzY29zcGFyazovL3VzL01FU1NBR0UvZTZlMjAwNzAtNTVkNy0xMWU3LWE4ZWMtMzU0NGIwMmE3ODRl\n",
      "Deleting message 15/Y2lzY29zcGFyazovL3VzL01FU1NBR0UvZTg2OGEwNzAtNTVkNy0xMWU3LThjMjQtZjFlYTY4N2I2YTEy\n",
      "Deleting message 16/Y2lzY29zcGFyazovL3VzL01FU1NBR0UvZTlkNjNhMzAtNTVkNy0xMWU3LThlMmItMzczZjAyN2M4ODVm\n",
      "Deleting message 17/Y2lzY29zcGFyazovL3VzL01FU1NBR0UvZGY3OGE4NTAtNTkwMy0xMWU3LTgxNDktY2Y4OTVjNTliZTU3\n",
      "Deleting message 18/Y2lzY29zcGFyazovL3VzL01FU1NBR0UvZTRiY2M1ODAtNTkwMy0xMWU3LTg5MzAtZWZhYTI5ZDZhZmE0\n",
      "Deleting message 19/Y2lzY29zcGFyazovL3VzL01FU1NBR0UvZThmNDA2OTAtNTkwMy0xMWU3LTg1ZTUtMTU4MWEyMjJlNGEw\n",
      "Deleting message 20/Y2lzY29zcGFyazovL3VzL01FU1NBR0UvZWJiZTRhMjAtNTkwMy0xMWU3LWFhMmEtNTkwODIwYWIzNzVh\n",
      "Deleting message 21/Y2lzY29zcGFyazovL3VzL01FU1NBR0UvZWU2NmFkZDAtNTkwMy0xMWU3LWJlYjYtMzUyMjA4MDUzODRh\n",
      "Deleting message 22/Y2lzY29zcGFyazovL3VzL01FU1NBR0UvZjA2MDVhZjAtNTkwMy0xMWU3LTg2YzgtMzMxYjczODA3NjNi\n",
      "Deleting message 23/Y2lzY29zcGFyazovL3VzL01FU1NBR0UvZjJhNjJjNDAtNTkwMy0xMWU3LWI5MTgtNGIxNzc1MjkzOTFl\n",
      "Deleting message 24/Y2lzY29zcGFyazovL3VzL01FU1NBR0UvMGFhYzNhNTAtNTkwNC0xMWU3LTllY2ItYzVlYmU0ZTA4ZGY4\n",
      "Deleting message 25/Y2lzY29zcGFyazovL3VzL01FU1NBR0UvMGFmOTk3MDAtNTkwNC0xMWU3LTg2YzgtMzMxYjczODA3NjNi\n",
      "Deleting message 26/Y2lzY29zcGFyazovL3VzL01FU1NBR0UvMGIzNTQwNzAtNTkwNC0xMWU3LTk1ZWItYWI2NWY2ZThjMjQz\n",
      "Deleting message 27/Y2lzY29zcGFyazovL3VzL01FU1NBR0UvMGQ0Y2Q1ZDAtNTkwNC0xMWU3LTk2MDAtNGRhOGQwZGNiYmJm\n",
      "Deleting message 28/Y2lzY29zcGFyazovL3VzL01FU1NBR0UvMGVlNjEzNzAtNTkwNC0xMWU3LTllY2ItYzVlYmU0ZTA4ZGY4\n",
      "Deleting message 29/Y2lzY29zcGFyazovL3VzL01FU1NBR0UvMTBhMzJjYzAtNTkwNC0xMWU3LThkNmItYjE3NTdhMDdiOTRl\n",
      "Deleting message 30/Y2lzY29zcGFyazovL3VzL01FU1NBR0UvMTIzZGM5ZjAtNTkwNC0xMWU3LWJiODktNzkxMjYyMjkxNTdl\n"
     ]
    }
   ],
   "source": [
    "import ciscosparkapi\n",
    "\n",
    "api = ciscosparkapi.CiscoSparkAPI(access_token=access_token)\n",
    "\n",
    "me = api.people.me()\n",
    "\n",
    "# list of message IDs posted by me in the above space\n",
    "my_message_ids = [m.id for m in api.messages.list(roomId=target_space.id) if m.personId == me.id]\n",
    "\n",
    "print('Deleting {} messsages'.format(len(my_message_ids)))\n",
    "\n",
    "# enumerate() returns an iterator which returns tuples (index, element of iterable passed to enumerate)\n",
    "# reversed() created an iterator which returs elements of the passed list in reversed order\n",
    "# using reversed() as we want to delete the messages in chronological order: oldest 1st\n",
    "for i, id in enumerate(reversed(my_message_ids)):\n",
    "    print('Deleting message {}/{}'.format(i+1, id))\n",
    "    api.messages.delete(id)"
   ]
  }
 ],
 "metadata": {
  "celltoolbar": "Attachments",
  "kernelspec": {
   "display_name": "Python 3",
   "language": "python",
   "name": "python3"
  },
  "language_info": {
   "codemirror_mode": {
    "name": "ipython",
    "version": 3
   },
   "file_extension": ".py",
   "mimetype": "text/x-python",
   "name": "python",
   "nbconvert_exporter": "python",
   "pygments_lexer": "ipython3",
   "version": "3.5.0"
  }
 },
 "nbformat": 4,
 "nbformat_minor": 2
}
